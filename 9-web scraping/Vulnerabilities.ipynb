{
 "cells": [
  {
   "cell_type": "code",
   "execution_count": 1,
   "id": "a7834eb6-3a08-4504-91e6-6e94bbb5415d",
   "metadata": {},
   "outputs": [],
   "source": [
    "import pandas as pd  \n",
    "import numpy as np \n",
    "import matplotlib.pyplot as plt"
   ]
  },
  {
   "cell_type": "code",
   "execution_count": 3,
   "id": "eeaffae3-ceda-4241-827d-5c68b56b8c24",
   "metadata": {},
   "outputs": [],
   "source": [
    "from bs4 import BeautifulSoup as bs \n",
    "import autoscraper \n",
    "import requests\n",
    "#class=\"col-lg-9\""
   ]
  },
  {
   "cell_type": "code",
   "execution_count": 4,
   "id": "a4d6db24-0564-4739-a266-4803061ae65c",
   "metadata": {},
   "outputs": [],
   "source": [
    "link=\"https://nvd.nist.gov/\""
   ]
  },
  {
   "cell_type": "code",
   "execution_count": 5,
   "id": "d97aae4f-dcfb-4a8e-8a5e-76ec2726bd1c",
   "metadata": {},
   "outputs": [
    {
     "data": {
      "text/plain": [
       "<Response [200]>"
      ]
     },
     "execution_count": 5,
     "metadata": {},
     "output_type": "execute_result"
    }
   ],
   "source": [
    "page = requests.get(link)\n",
    "page"
   ]
  },
  {
   "cell_type": "code",
   "execution_count": 6,
   "id": "cace1ca4-3d4f-45d2-b0fd-63d4db19f11d",
   "metadata": {},
   "outputs": [],
   "source": [
    "soup = bs(page.content,\"html.parser\")"
   ]
  },
  {
   "cell_type": "code",
   "execution_count": 24,
   "id": "d6858ae0-0b89-49d8-97b6-b298969aebd2",
   "metadata": {},
   "outputs": [],
   "source": [
    "#soup.prettify"
   ]
  },
  {
   "cell_type": "code",
   "execution_count": 25,
   "id": "367a05b3-1f2b-43a0-ae34-a08e07bcca44",
   "metadata": {},
   "outputs": [],
   "source": [
    "k=soup.find_all('div',class_=\"col-lg-9\")\n",
    "#k"
   ]
  },
  {
   "cell_type": "code",
   "execution_count": 9,
   "id": "263f7ac1-5c51-4515-98e8-932928cf4fb0",
   "metadata": {},
   "outputs": [],
   "source": [
    "w=[]\n",
    "for i in range(len(k)):\n",
    "    w.append(k[i].get_text())"
   ]
  },
  {
   "cell_type": "code",
   "execution_count": 27,
   "id": "5cd85edc-4e9d-4a39-a00f-cde68ca0a655",
   "metadata": {},
   "outputs": [
    {
     "data": {
      "text/plain": [
       "'CVE-2024-43117  - Cross-Site Request Forgery (CSRF) vulnerability in WPMU DEV Hummingbird.This issue affects Hummingbird: from n/a through 3.9.1.\\r'"
      ]
     },
     "execution_count": 27,
     "metadata": {},
     "output_type": "execute_result"
    }
   ],
   "source": [
    "w[1].split('\\n')[2]"
   ]
  },
  {
   "cell_type": "code",
   "execution_count": 33,
   "id": "cd34d9af-642c-4d59-9ee5-f99a2ecf405f",
   "metadata": {},
   "outputs": [
    {
     "data": {
      "text/plain": [
       "'\\n\\nCVE-2024-43117  - Cross-Site Request Forgery (CSRF) vulnerability in WPMU DEV Hummingbird.This issue affects Hummingbird: from n/a through 3.9.1.\\r\\n\\r\\n\\t\\t\\t\\t\\t\\t\\t\\t\\t\\t Published:\\r\\n\\t\\t\\t\\t\\t\\t\\t\\t\\t\\tAugust 26, 2024; 5:15:24 PM -0400\\r\\n\\t\\t\\t\\t\\t\\t\\t\\t\\t\\n'"
      ]
     },
     "execution_count": 33,
     "metadata": {},
     "output_type": "execute_result"
    }
   ],
   "source": [
    "w[1]"
   ]
  },
  {
   "cell_type": "code",
   "execution_count": 34,
   "id": "4ade4c8c-5fb5-44fa-a74a-ea0bdc46f7e9",
   "metadata": {},
   "outputs": [
    {
     "data": {
      "text/plain": [
       "[]"
      ]
     },
     "execution_count": 34,
     "metadata": {},
     "output_type": "execute_result"
    }
   ],
   "source": [
    "import regex as re \n",
    "re.findall(w[1],\"Published:\")"
   ]
  },
  {
   "cell_type": "code",
   "execution_count": 54,
   "id": "1e25afa6-f6be-461e-911e-5b1a0eeab785",
   "metadata": {},
   "outputs": [],
   "source": [
    "from urllib.parse import urljoin\n",
    "href=[]\n",
    "base_url=\"https://nvd.nist.gov/\"\n",
    "for div in k:\n",
    " \n",
    "    links = div.find_all('a')\n",
    "    for link in links:\n",
    "   \n",
    "        href1 = link.get('href')\n",
    "        full_url = urljoin(base_url, href1)\n",
    "        href.append(full_url) \n",
    "        "
   ]
  },
  {
   "cell_type": "code",
   "execution_count": 55,
   "id": "60a9f81f-b961-45f8-9562-e4a8616c4d7d",
   "metadata": {},
   "outputs": [
    {
     "data": {
      "text/plain": [
       "'https://nvd.nist.gov/general/news/cvss-v4-0-official-support'"
      ]
     },
     "execution_count": 55,
     "metadata": {},
     "output_type": "execute_result"
    }
   ],
   "source": [
    "href[1]"
   ]
  },
  {
   "cell_type": "code",
   "execution_count": null,
   "id": "38853493-e87e-484b-8569-f200e1ad2118",
   "metadata": {},
   "outputs": [],
   "source": [
    "cvss-v4-0-official-support"
   ]
  },
  {
   "cell_type": "code",
   "execution_count": 47,
   "id": "a078323a-7b51-423a-8c34-ddead7ace26f",
   "metadata": {},
   "outputs": [],
   "source": [
    "from urllib.parse import urljoin"
   ]
  },
  {
   "cell_type": "code",
   "execution_count": null,
   "id": "8580ca1c-e5d8-43ad-ad52-497583c01a0f",
   "metadata": {},
   "outputs": [],
   "source": [
    "https://nvd.nist.gov/general/news/cvss-v4-0-official-support"
   ]
  }
 ],
 "metadata": {
  "kernelspec": {
   "display_name": "Python 3 (ipykernel)",
   "language": "python",
   "name": "python3"
  },
  "language_info": {
   "codemirror_mode": {
    "name": "ipython",
    "version": 3
   },
   "file_extension": ".py",
   "mimetype": "text/x-python",
   "name": "python",
   "nbconvert_exporter": "python",
   "pygments_lexer": "ipython3",
   "version": "3.11.7"
  },
  "widgets": {
   "application/vnd.jupyter.widget-state+json": {
    "state": {},
    "version_major": 2,
    "version_minor": 0
   }
  }
 },
 "nbformat": 4,
 "nbformat_minor": 5
}
