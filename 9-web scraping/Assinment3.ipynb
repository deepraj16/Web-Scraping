{
 "cells": [
  {
   "cell_type": "code",
   "execution_count": 1,
   "id": "75a2634c-fa28-46b5-8668-b2626aa69909",
   "metadata": {},
   "outputs": [],
   "source": [
    "import pandas as pd  \n",
    "import requests \n",
    "from bs4 import BeautifulSoup"
   ]
  },
  {
   "cell_type": "code",
   "execution_count": 6,
   "id": "ded25a80-58be-477c-808d-86c8d9656e02",
   "metadata": {},
   "outputs": [],
   "source": [
    "link=\"https://www.reliancedigital.in/laptops/c/S101210?searchQuery=:relevance:availability:Exclude%20out%20of%20Stock&page\"\n",
    "link=\"https://www.reliancedigital.in/laptops/c/S101210?searchQuery=laptop:relevance\"\n",
    "   #  https://www.reliancedigital.in/laptops/c/S101210?searchQuery=laptop:relevance"
   ]
  },
  {
   "cell_type": "code",
   "execution_count": 7,
   "id": "a198bc92-0442-43fc-b0a7-d09eda1d7fad",
   "metadata": {},
   "outputs": [],
   "source": [
    "page = requests.get(link)"
   ]
  },
  {
   "cell_type": "code",
   "execution_count": 8,
   "id": "fade63fd-f688-4563-a03c-e49e32108483",
   "metadata": {},
   "outputs": [
    {
     "data": {
      "text/plain": [
       "<Response [200]>"
      ]
     },
     "execution_count": 8,
     "metadata": {},
     "output_type": "execute_result"
    }
   ],
   "source": [
    "page"
   ]
  },
  {
   "cell_type": "code",
   "execution_count": 9,
   "id": "eb204d4e-f15d-414e-bf6f-4e6e1578e1ba",
   "metadata": {},
   "outputs": [],
   "source": [
    "soup = BeautifulSoup(page.content,\"html.parser\")"
   ]
  },
  {
   "cell_type": "code",
   "execution_count": 14,
   "id": "1dbc3d13-6f44-46ef-8a8e-a156fb23d70c",
   "metadata": {},
   "outputs": [],
   "source": [
    "#soup.prettify()"
   ]
  },
  {
   "cell_type": "code",
   "execution_count": 15,
   "id": "ec9addea-7912-45d1-840e-15fe66c169b3",
   "metadata": {},
   "outputs": [],
   "source": [
    "k =soup.find_all('p',class_=\"mss__slider__title\")"
   ]
  },
  {
   "cell_type": "code",
   "execution_count": 17,
   "id": "99dbbab2-b4a3-499b-be85-66170b4b8342",
   "metadata": {},
   "outputs": [],
   "source": [
    "laptop=[]\n",
    "for i in range(len(k)):\n",
    "    laptop.append(k[i].get_text())"
   ]
  },
  {
   "cell_type": "code",
   "execution_count": 19,
   "id": "48d96736-a10c-4970-b1e9-9e04dca9000f",
   "metadata": {},
   "outputs": [
    {
     "data": {
      "text/plain": [
       "'HP 15-fd0011TU Standard Laptop (13th Gen Intel Core i5-1335U/8 GB/512 GB SSD/Intel Iris Xe Graphics /Windows 11 Home/MSO/Full HD), 39.6 cm (15.6 inch)'"
      ]
     },
     "execution_count": 19,
     "metadata": {},
     "output_type": "execute_result"
    }
   ],
   "source": [
    "laptop[0]"
   ]
  },
  {
   "cell_type": "code",
   "execution_count": null,
   "id": "2478800f-1c87-48d7-8887-c54a3a537794",
   "metadata": {},
   "outputs": [],
   "source": []
  },
  {
   "cell_type": "code",
   "execution_count": 20,
   "id": "ebb3b534-9983-4d9e-8661-7e29d9dca11d",
   "metadata": {},
   "outputs": [],
   "source": [
    "price =soup('span',class_=\"priceboxw__price\")"
   ]
  },
  {
   "cell_type": "code",
   "execution_count": 21,
   "id": "d41f158b-cac3-41bd-a0a4-1861e8c5710b",
   "metadata": {},
   "outputs": [],
   "source": [
    "# class=\"mss__slider__title\"\n",
    "# <span class=\"priceboxw__price\">"
   ]
  },
  {
   "cell_type": "code",
   "execution_count": 23,
   "id": "5ccb7985-fbe6-47b4-9847-f840e847ed1b",
   "metadata": {},
   "outputs": [
    {
     "data": {
      "text/plain": [
       "58"
      ]
     },
     "execution_count": 23,
     "metadata": {},
     "output_type": "execute_result"
    }
   ],
   "source": [
    "len(price)"
   ]
  },
  {
   "cell_type": "code",
   "execution_count": 24,
   "id": "eb3b7632-7613-4952-b04b-9ee8e90b8505",
   "metadata": {},
   "outputs": [
    {
     "data": {
      "text/plain": [
       "58"
      ]
     },
     "execution_count": 24,
     "metadata": {},
     "output_type": "execute_result"
    }
   ],
   "source": [
    "len(laptop)"
   ]
  },
  {
   "cell_type": "code",
   "execution_count": 25,
   "id": "422ecef4-faaf-4cdd-9a0b-534738b86387",
   "metadata": {},
   "outputs": [],
   "source": [
    "price1=[]\n",
    "for i in range(len(price)): \n",
    "    price1.append(price[i].get_text())"
   ]
  },
  {
   "cell_type": "code",
   "execution_count": 30,
   "id": "276af359-f4c5-43d3-a1c8-51a4d9c14fe1",
   "metadata": {},
   "outputs": [
    {
     "data": {
      "text/plain": [
       "'₹51,920.00'"
      ]
     },
     "execution_count": 30,
     "metadata": {},
     "output_type": "execute_result"
    }
   ],
   "source": [
    "price1[0]"
   ]
  },
  {
   "cell_type": "code",
   "execution_count": 31,
   "id": "fafe6aa5-1e40-4c26-a795-eb828ad919a3",
   "metadata": {},
   "outputs": [
    {
     "data": {
      "text/plain": [
       "'51,920.00'"
      ]
     },
     "execution_count": 31,
     "metadata": {},
     "output_type": "execute_result"
    }
   ],
   "source": [
    "price1[0][1:]"
   ]
  },
  {
   "cell_type": "code",
   "execution_count": 32,
   "id": "cd852ff1-e34a-4d3d-ab79-f2972213d796",
   "metadata": {},
   "outputs": [],
   "source": [
    "price2=[]\n",
    "for i in range(len(price1)): \n",
    "    price2.append(price1[i][1:])\n",
    "    "
   ]
  },
  {
   "cell_type": "code",
   "execution_count": 33,
   "id": "fa4bacb2-f0dc-422a-b6b9-6247437e91f7",
   "metadata": {},
   "outputs": [
    {
     "data": {
      "text/plain": [
       "['51,920.00',\n",
       " '38,490.00',\n",
       " '1,59,699.00',\n",
       " '1,16,899.00',\n",
       " '1,36,900.00',\n",
       " '29,999.00',\n",
       " '46,999.00',\n",
       " '35,500.00',\n",
       " '70,500.00',\n",
       " '62,500.00',\n",
       " '68,000.00',\n",
       " '80,999.00',\n",
       " '51,920.00',\n",
       " '38,490.00',\n",
       " '1,59,699.00',\n",
       " '1,16,899.00',\n",
       " '1,36,900.00',\n",
       " '29,999.00',\n",
       " '46,999.00',\n",
       " '35,500.00',\n",
       " '70,500.00',\n",
       " '62,500.00',\n",
       " '68,000.00',\n",
       " '80,999.00',\n",
       " '51,920.00',\n",
       " '38,490.00',\n",
       " '1,59,699.00',\n",
       " '1,16,899.00',\n",
       " '1,36,900.00',\n",
       " '35,499.00',\n",
       " '68,000.00',\n",
       " '38,420.00',\n",
       " '38,420.00',\n",
       " '35,920.00',\n",
       " '42,499.00',\n",
       " '32,999.00',\n",
       " '58,499.00',\n",
       " '49,999.00',\n",
       " '31,999.00',\n",
       " '38,500.00',\n",
       " '76,999.00',\n",
       " '35,499.00',\n",
       " '68,000.00',\n",
       " '38,420.00',\n",
       " '38,420.00',\n",
       " '35,920.00',\n",
       " '42,499.00',\n",
       " '32,999.00',\n",
       " '58,499.00',\n",
       " '49,999.00',\n",
       " '31,999.00',\n",
       " '38,500.00',\n",
       " '76,999.00',\n",
       " '35,499.00',\n",
       " '68,000.00',\n",
       " '38,420.00',\n",
       " '38,420.00',\n",
       " '35,920.00']"
      ]
     },
     "execution_count": 33,
     "metadata": {},
     "output_type": "execute_result"
    }
   ],
   "source": [
    "price2"
   ]
  },
  {
   "cell_type": "code",
   "execution_count": 160,
   "id": "80ffe14f-3c14-4fda-8eb5-94e060d03dae",
   "metadata": {},
   "outputs": [
    {
     "data": {
      "text/plain": [
       "['38,420.00',\n",
       " '68,000.00',\n",
       " '32,999.00',\n",
       " '35,920.00',\n",
       " '38,500.00',\n",
       " '31,999.00',\n",
       " '49,999.00',\n",
       " '35,500.00',\n",
       " '29,999.00',\n",
       " '58,499.00',\n",
       " '42,499.00',\n",
       " '1,59,699.00',\n",
       " '76,999.00',\n",
       " '38,490.00',\n",
       " '80,999.00',\n",
       " '35,499.00',\n",
       " '51,920.00',\n",
       " '62,500.00',\n",
       " '70,500.00',\n",
       " '1,16,899.00',\n",
       " '46,999.00',\n",
       " '1,36,900.00']"
      ]
     },
     "execution_count": 160,
     "metadata": {},
     "output_type": "execute_result"
    }
   ],
   "source": [
    "k=list(set(price2))\n",
    "len(k)\n",
    "k"
   ]
  },
  {
   "cell_type": "code",
   "execution_count": 77,
   "id": "07566708-1935-4737-a6e1-8dead0b72c4b",
   "metadata": {},
   "outputs": [],
   "source": [
    "\n",
    "laptop.remove('Dell Inspiron 3520, 12th Gen Intel Core i3 Processor, 8 GB RAM, 512 GB SSD, Integrated Graphics, 39.62 cm (15.6 inch) Display, Windows 11, Laptop, Black')"
   ]
  },
  {
   "cell_type": "code",
   "execution_count": null,
   "id": "0a78fecc-8548-4d0e-88fd-81b8880c281a",
   "metadata": {},
   "outputs": [],
   "source": [
    "#removed laptop.remove('Apple MacBook Pro, M3 Chip 8 Core CPU, 10 Core GPU, 8 GB Unified Memory, 512 GB SSD, Display 14.2 inch\n",
    "#36.06 cm, macOS Sonoma, Space Grey, MTL73HN/A')"
   ]
  },
  {
   "cell_type": "code",
   "execution_count": 102,
   "id": "637f5993-f05c-4843-9291-39b711671b05",
   "metadata": {},
   "outputs": [
    {
     "data": {
      "text/plain": [
       "['HP 15-fd0011TU Standard Laptop (13th Gen Intel Core i5-1335U/8 GB/512 GB SSD/Intel Iris Xe Graphics /Windows 11 Home/MSO/Full HD), 39.6 cm (15.6 inch)',\n",
       " 'Lenovo Ideapad Slim 3 Laptop (Intel Core i3 -1215U, 8 GB / 512 GB / / 3.3GHz/ Windows 11 Home /39.62 cm (15.6 inch) /FHD (1920x1080) /Smart Feature/Anti-glare)',\n",
       " 'Apple MQKW3HN/A Macbook Air (Apple M2 chip/8 GB/256 GB SSD/mac OS/Retina), 38.91cm (15.3 inch) Midnight Blue',\n",
       " 'Apple MQKV3HN/A Macbook Air (Apple M2 chip/8 GB/512 GB SSD/mac OS/Retina), 38.91cm (15.3 inch) Starlight',\n",
       " 'Acer Aspire 3 12th Gen Intel Core i3 Laptop (Windows 11 Home/ 8 GB/ 256 GB SSD/ Intel UHD Graphics/ Microsoft Office) AL15-51, 39.6 cm (15.6 Inch) Full HD TFT LCD Display, Pure Silver',\n",
       " 'Acer Aspire Lite 11th Gen Intel Core i7 Laptop (Windows 11 Home/ 16 GB/ 512 GB SSD/ Intel Iris Xe Graphics/ Microsoft Office) AL15-51, 39.6 cm (15.6 inch) Full HD TN TFT LCD Display, Steel Gray',\n",
       " 'Dell Inspiron 5430 Notebook Laptop (13th Gen Intel Core i5-1335U/16GB/1 TB SSD/Intel UMA Graphics/Windows 11/MSO/FHD), 35.56 cm (14 inch)',\n",
       " 'Dell Inspiron 5430 Notebook Laptop (13th Gen Intel Core i5-1335U/8GB/512 GB SSD/Intel UMA Graphics/Windows 11/MSO/FHD), 35.56 cm (14 inch)',\n",
       " 'HP Pavilion EG3081TU Laptop (13th Gen Intel Core i5-1340P/16GB/512GB SSD/Intel Iris Xe Graphics/Windows 11 Home/MSO/FHD), 39.62cm (15.6 inch)',\n",
       " 'HP Pavilion 15-eg3032TU Laptop (13th Gen Intel Core i7-1360P/16GB/512 GB SSD/Intel Xe Graphics/Windows 11 Home/MSO/FHD), 39.6cm (15.6 inch)',\n",
       " 'HP 15-fd0011TU Standard Laptop (13th Gen Intel Core i5-1335U/8 GB/512 GB SSD/Intel Iris Xe Graphics /Windows 11 Home/MSO/Full HD), 39.6 cm (15.6 inch)',\n",
       " 'Lenovo Ideapad Slim 3 Laptop (Intel Core i3 -1215U, 8 GB / 512 GB / / 3.3GHz/ Windows 11 Home /39.62 cm (15.6 inch) /FHD (1920x1080) /Smart Feature/Anti-glare)',\n",
       " 'Apple MQKW3HN/A Macbook Air (Apple M2 chip/8 GB/256 GB SSD/mac OS/Retina), 38.91cm (15.3 inch) Midnight Blue',\n",
       " 'Apple MQKV3HN/A Macbook Air (Apple M2 chip/8 GB/512 GB SSD/mac OS/Retina), 38.91cm (15.3 inch) Starlight',\n",
       " 'Acer Aspire 3 12th Gen Intel Core i3 Laptop (Windows 11 Home/ 8 GB/ 256 GB SSD/ Intel UHD Graphics/ Microsoft Office) AL15-51, 39.6 cm (15.6 Inch) Full HD TFT LCD Display, Pure Silver',\n",
       " 'Acer Aspire Lite 11th Gen Intel Core i7 Laptop (Windows 11 Home/ 16 GB/ 512 GB SSD/ Intel Iris Xe Graphics/ Microsoft Office) AL15-51, 39.6 cm (15.6 inch) Full HD TN TFT LCD Display, Steel Gray',\n",
       " 'Dell Inspiron 3520, 12th Gen Intel Core i3 Processor, 8 GB RAM, 512 GB SSD, Integrated Graphics, 39.62 cm (15.6 inch) Display, Windows 11, Laptop, Black',\n",
       " 'Dell Inspiron 5430 Notebook Laptop (13th Gen Intel Core i5-1335U/16GB/1 TB SSD/Intel UMA Graphics/Windows 11/MSO/FHD), 35.56 cm (14 inch)',\n",
       " 'Dell Inspiron 5430 Notebook Laptop (13th Gen Intel Core i5-1335U/8GB/512 GB SSD/Intel UMA Graphics/Windows 11/MSO/FHD), 35.56 cm (14 inch)',\n",
       " 'HP Pavilion EG3081TU Laptop (13th Gen Intel Core i5-1340P/16GB/512GB SSD/Intel Iris Xe Graphics/Windows 11 Home/MSO/FHD), 39.62cm (15.6 inch)',\n",
       " 'HP Pavilion 15-eg3032TU Laptop (13th Gen Intel Core i7-1360P/16GB/512 GB SSD/Intel Xe Graphics/Windows 11 Home/MSO/FHD), 39.6cm (15.6 inch)',\n",
       " 'HP 15-fd0011TU Standard Laptop (13th Gen Intel Core i5-1335U/8 GB/512 GB SSD/Intel Iris Xe Graphics /Windows 11 Home/MSO/Full HD), 39.6 cm (15.6 inch)',\n",
       " 'Lenovo Ideapad Slim 3 Laptop (Intel Core i3 -1215U, 8 GB / 512 GB / / 3.3GHz/ Windows 11 Home /39.62 cm (15.6 inch) /FHD (1920x1080) /Smart Feature/Anti-glare)',\n",
       " 'Apple MQKW3HN/A Macbook Air (Apple M2 chip/8 GB/256 GB SSD/mac OS/Retina), 38.91cm (15.3 inch) Midnight Blue',\n",
       " 'Apple MQKV3HN/A Macbook Air (Apple M2 chip/8 GB/512 GB SSD/mac OS/Retina), 38.91cm (15.3 inch) Starlight',\n",
       " 'HP 14s-fq1089AU Laptop (AMD Ryzen 3 5300U/8 GB/512 GB SSD/Windows 11/MSO/FHD) 35.56 cm (14 Inch)',\n",
       " 'HP Pavilion 15-eg2002TU Laptop (Intel Core i5-1240P/16GB/512GB SSD/Intel Iris Xe Graphics/Windows 11 Home/FHD/MS), 39.6 cm (15.6 inch), 66C03PA',\n",
       " 'HP 15s-fr5009TU Standard Laptop (12th Gen Intel Core i3-1215U/8 GB/512 GB SSD/Intel UHD Graphics/Windows 11 Home/MSO/FHD), 39.6cm (15.6 inch)',\n",
       " 'HP 15s-eq2144au Laptop (AMD Ryzen 5 5500U Processor/8GB/512GB SSD/AMD Radeon Graphics/Windows 11/MSO/FHD) 39.6 cm (15.6 inch)',\n",
       " 'HP 15-fc0026AU Standard Laptop (AMD Ryzen 3 7320U/8 GB/512 GB SSD/AMD Radeon Graphics/Windows 11 Home/MSO/FHD), 39.6cm (15.6 inch)',\n",
       " 'HP 15s-eq2132AU Laptop (AMD Ryzen 5 5500U/16GB/512 GB SSD/AMD Radeon Graphics/Windows 11 Home/MSO/FHD), 39.6cm (15.6 inch)',\n",
       " 'Lenovo 8EIN IdeaPad Slim 3 Laptop (AMD Ryzen 3 7320U/8GB/512GB SSD/Integrated AMD Radeon 610M Graphics/Windows 11 Home/MSO/FHD), 39.62 cm (15.6 inch)',\n",
       " 'Lenovo 4XIN IdeaPad Flex 5 Laptop (Intel Core i3-1315U/8GB/512GB SSD/Integrated Intel UHD Graphics/Windows 11 Home/MSO/WUXGA), 35.56 cm (14 inch)',\n",
       " 'Asus MB511WS VivoBook 16X Laptop (AMD Ryzen 5 5600H/16 GB/512 GB SSD/AMD Radeon Vega 7 Graphics/2K display/Windows 11/MSO/WUXGA)',\n",
       " 'Asus EJ327WS Vivobook X515 Laptop (11th Gen Intel Core i3-1115G4/ 8GB/512GB SSD/Win 11 Home/MSO/FHD), 39.62 cm (15.6 inch)',\n",
       " 'Dell Inspiron 3511 Laptop (11th Gen Intel Core i5-1135G7/8 GB/512 GB SSD/Intel UMA Graphics/Windows 11/MSO/FHD), 39.62 cm (15.6 inch)',\n",
       " 'Apple MGN63HNA MacBook Air (Apple M1 Chip/8GB/256GB SSD/macOS Big Sur/Retina), 33.78 cm (13.3 inch)',\n",
       " 'HP 14s-fq1089AU Laptop (AMD Ryzen 3 5300U/8 GB/512 GB SSD/Windows 11/MSO/FHD) 35.56 cm (14 Inch)',\n",
       " 'HP Pavilion 15-eg2002TU Laptop (Intel Core i5-1240P/16GB/512GB SSD/Intel Iris Xe Graphics/Windows 11 Home/FHD/MS), 39.6 cm (15.6 inch), 66C03PA',\n",
       " 'HP 15s-fr5009TU Standard Laptop (12th Gen Intel Core i3-1215U/8 GB/512 GB SSD/Intel UHD Graphics/Windows 11 Home/MSO/FHD), 39.6cm (15.6 inch)',\n",
       " 'HP 15s-eq2144au Laptop (AMD Ryzen 5 5500U Processor/8GB/512GB SSD/AMD Radeon Graphics/Windows 11/MSO/FHD) 39.6 cm (15.6 inch)',\n",
       " 'HP 15-fc0026AU Standard Laptop (AMD Ryzen 3 7320U/8 GB/512 GB SSD/AMD Radeon Graphics/Windows 11 Home/MSO/FHD), 39.6cm (15.6 inch)',\n",
       " 'HP 15s-eq2132AU Laptop (AMD Ryzen 5 5500U/16GB/512 GB SSD/AMD Radeon Graphics/Windows 11 Home/MSO/FHD), 39.6cm (15.6 inch)',\n",
       " 'Lenovo 8EIN IdeaPad Slim 3 Laptop (AMD Ryzen 3 7320U/8GB/512GB SSD/Integrated AMD Radeon 610M Graphics/Windows 11 Home/MSO/FHD), 39.62 cm (15.6 inch)',\n",
       " 'Lenovo 4XIN IdeaPad Flex 5 Laptop (Intel Core i3-1315U/8GB/512GB SSD/Integrated Intel UHD Graphics/Windows 11 Home/MSO/WUXGA), 35.56 cm (14 inch)',\n",
       " 'Asus MB511WS VivoBook 16X Laptop (AMD Ryzen 5 5600H/16 GB/512 GB SSD/AMD Radeon Vega 7 Graphics/2K display/Windows 11/MSO/WUXGA)',\n",
       " 'Asus EJ327WS Vivobook X515 Laptop (11th Gen Intel Core i3-1115G4/ 8GB/512GB SSD/Win 11 Home/MSO/FHD), 39.62 cm (15.6 inch)',\n",
       " 'Dell Inspiron 3511 Laptop (11th Gen Intel Core i5-1135G7/8 GB/512 GB SSD/Intel UMA Graphics/Windows 11/MSO/FHD), 39.62 cm (15.6 inch)',\n",
       " 'Apple MGN63HNA MacBook Air (Apple M1 Chip/8GB/256GB SSD/macOS Big Sur/Retina), 33.78 cm (13.3 inch)',\n",
       " 'HP 14s-fq1089AU Laptop (AMD Ryzen 3 5300U/8 GB/512 GB SSD/Windows 11/MSO/FHD) 35.56 cm (14 Inch)',\n",
       " 'HP Pavilion 15-eg2002TU Laptop (Intel Core i5-1240P/16GB/512GB SSD/Intel Iris Xe Graphics/Windows 11 Home/FHD/MS), 39.6 cm (15.6 inch), 66C03PA',\n",
       " 'HP 15s-fr5009TU Standard Laptop (12th Gen Intel Core i3-1215U/8 GB/512 GB SSD/Intel UHD Graphics/Windows 11 Home/MSO/FHD), 39.6cm (15.6 inch)',\n",
       " 'HP 15s-eq2144au Laptop (AMD Ryzen 5 5500U Processor/8GB/512GB SSD/AMD Radeon Graphics/Windows 11/MSO/FHD) 39.6 cm (15.6 inch)',\n",
       " 'HP 15-fc0026AU Standard Laptop (AMD Ryzen 3 7320U/8 GB/512 GB SSD/AMD Radeon Graphics/Windows 11 Home/MSO/FHD), 39.6cm (15.6 inch)']"
      ]
     },
     "execution_count": 102,
     "metadata": {},
     "output_type": "execute_result"
    }
   ],
   "source": [
    "laptop[0].split('(')[0]\n",
    "laptop"
   ]
  },
  {
   "cell_type": "code",
   "execution_count": 104,
   "id": "500f6c25-09c7-44d1-b2e9-19a885cb73c0",
   "metadata": {},
   "outputs": [],
   "source": [
    "laptop.remove(\"Dell Inspiron 3520, 12th Gen Intel Core i3 Processor, 8 GB RAM, 512 GB SSD, Integrated Graphics, 39.62 cm (15.6 inch) Display, Windows 11, Laptop, Black\")"
   ]
  },
  {
   "cell_type": "code",
   "execution_count": 108,
   "id": "da93e75a-741e-4950-9b3a-1b30c9d8b679",
   "metadata": {},
   "outputs": [
    {
     "data": {
      "text/plain": [
       "53"
      ]
     },
     "execution_count": 108,
     "metadata": {},
     "output_type": "execute_result"
    }
   ],
   "source": [
    "len(laptop)"
   ]
  },
  {
   "cell_type": "code",
   "execution_count": 105,
   "id": "adfef784-aad1-4edc-b4b0-dc4391775229",
   "metadata": {},
   "outputs": [],
   "source": [
    "laptop_name=[]\n",
    "for i in range(len(laptop)): \n",
    "    laptop_name.append(laptop[i].split('(')[0])"
   ]
  },
  {
   "cell_type": "code",
   "execution_count": 106,
   "id": "0853679a-b47d-4c81-972a-c9004371bef3",
   "metadata": {},
   "outputs": [
    {
     "data": {
      "text/plain": [
       "['HP 15-fd0011TU Standard Laptop ',\n",
       " 'Lenovo Ideapad Slim 3 Laptop ',\n",
       " 'Apple MQKW3HN/A Macbook Air ',\n",
       " 'Apple MQKV3HN/A Macbook Air ',\n",
       " 'Acer Aspire 3 12th Gen Intel Core i3 Laptop ',\n",
       " 'Acer Aspire Lite 11th Gen Intel Core i7 Laptop ',\n",
       " 'Dell Inspiron 5430 Notebook Laptop ',\n",
       " 'Dell Inspiron 5430 Notebook Laptop ',\n",
       " 'HP Pavilion EG3081TU Laptop ',\n",
       " 'HP Pavilion 15-eg3032TU Laptop ',\n",
       " 'HP 15-fd0011TU Standard Laptop ',\n",
       " 'Lenovo Ideapad Slim 3 Laptop ',\n",
       " 'Apple MQKW3HN/A Macbook Air ',\n",
       " 'Apple MQKV3HN/A Macbook Air ',\n",
       " 'Acer Aspire 3 12th Gen Intel Core i3 Laptop ',\n",
       " 'Acer Aspire Lite 11th Gen Intel Core i7 Laptop ',\n",
       " 'Dell Inspiron 5430 Notebook Laptop ',\n",
       " 'Dell Inspiron 5430 Notebook Laptop ',\n",
       " 'HP Pavilion EG3081TU Laptop ',\n",
       " 'HP Pavilion 15-eg3032TU Laptop ',\n",
       " 'HP 15-fd0011TU Standard Laptop ',\n",
       " 'Lenovo Ideapad Slim 3 Laptop ',\n",
       " 'Apple MQKW3HN/A Macbook Air ',\n",
       " 'Apple MQKV3HN/A Macbook Air ',\n",
       " 'HP 14s-fq1089AU Laptop ',\n",
       " 'HP Pavilion 15-eg2002TU Laptop ',\n",
       " 'HP 15s-fr5009TU Standard Laptop ',\n",
       " 'HP 15s-eq2144au Laptop ',\n",
       " 'HP 15-fc0026AU Standard Laptop ',\n",
       " 'HP 15s-eq2132AU Laptop ',\n",
       " 'Lenovo 8EIN IdeaPad Slim 3 Laptop ',\n",
       " 'Lenovo 4XIN IdeaPad Flex 5 Laptop ',\n",
       " 'Asus MB511WS VivoBook 16X Laptop ',\n",
       " 'Asus EJ327WS Vivobook X515 Laptop ',\n",
       " 'Dell Inspiron 3511 Laptop ',\n",
       " 'Apple MGN63HNA MacBook Air ',\n",
       " 'HP 14s-fq1089AU Laptop ',\n",
       " 'HP Pavilion 15-eg2002TU Laptop ',\n",
       " 'HP 15s-fr5009TU Standard Laptop ',\n",
       " 'HP 15s-eq2144au Laptop ',\n",
       " 'HP 15-fc0026AU Standard Laptop ',\n",
       " 'HP 15s-eq2132AU Laptop ',\n",
       " 'Lenovo 8EIN IdeaPad Slim 3 Laptop ',\n",
       " 'Lenovo 4XIN IdeaPad Flex 5 Laptop ',\n",
       " 'Asus MB511WS VivoBook 16X Laptop ',\n",
       " 'Asus EJ327WS Vivobook X515 Laptop ',\n",
       " 'Dell Inspiron 3511 Laptop ',\n",
       " 'Apple MGN63HNA MacBook Air ',\n",
       " 'HP 14s-fq1089AU Laptop ',\n",
       " 'HP Pavilion 15-eg2002TU Laptop ',\n",
       " 'HP 15s-fr5009TU Standard Laptop ',\n",
       " 'HP 15s-eq2144au Laptop ',\n",
       " 'HP 15-fc0026AU Standard Laptop ']"
      ]
     },
     "execution_count": 106,
     "metadata": {},
     "output_type": "execute_result"
    }
   ],
   "source": [
    "laptop_name"
   ]
  },
  {
   "cell_type": "code",
   "execution_count": 131,
   "id": "e78ecfdb-bcdf-4a3d-8c50-7534b3102078",
   "metadata": {},
   "outputs": [
    {
     "data": {
      "text/plain": [
       "'HP 15-fd0011TU Standard Laptop '"
      ]
     },
     "execution_count": 131,
     "metadata": {},
     "output_type": "execute_result"
    }
   ],
   "source": [
    "len(laptop_name)\n",
    "laptop_name[0]"
   ]
  },
  {
   "cell_type": "code",
   "execution_count": 109,
   "id": "e4f485e6-609d-4198-b292-ef66d6bfd753",
   "metadata": {},
   "outputs": [],
   "source": [
    "l=list(set(laptop))"
   ]
  },
  {
   "cell_type": "code",
   "execution_count": 134,
   "id": "ac08abea-6210-47d5-b1bb-7f89af02c45b",
   "metadata": {},
   "outputs": [
    {
     "data": {
      "text/plain": [
       "['Dell Inspiron 3511 Laptop (11th Gen Intel Core i5-1135G7/8 GB/512 GB SSD/Intel UMA Graphics/Windows 11/MSO/FHD), 39.62 cm (15.6 inch)',\n",
       " 'Apple MGN63HNA MacBook Air (Apple M1 Chip/8GB/256GB SSD/macOS Big Sur/Retina), 33.78 cm (13.3 inch)',\n",
       " 'Lenovo 8EIN IdeaPad Slim 3 Laptop (AMD Ryzen 3 7320U/8GB/512GB SSD/Integrated AMD Radeon 610M Graphics/Windows 11 Home/MSO/FHD), 39.62 cm (15.6 inch)',\n",
       " 'HP Pavilion EG3081TU Laptop (13th Gen Intel Core i5-1340P/16GB/512GB SSD/Intel Iris Xe Graphics/Windows 11 Home/MSO/FHD), 39.62cm (15.6 inch)',\n",
       " 'Dell Inspiron 5430 Notebook Laptop (13th Gen Intel Core i5-1335U/8GB/512 GB SSD/Intel UMA Graphics/Windows 11/MSO/FHD), 35.56 cm (14 inch)',\n",
       " 'Lenovo 4XIN IdeaPad Flex 5 Laptop (Intel Core i3-1315U/8GB/512GB SSD/Integrated Intel UHD Graphics/Windows 11 Home/MSO/WUXGA), 35.56 cm (14 inch)',\n",
       " 'HP Pavilion 15-eg3032TU Laptop (13th Gen Intel Core i7-1360P/16GB/512 GB SSD/Intel Xe Graphics/Windows 11 Home/MSO/FHD), 39.6cm (15.6 inch)',\n",
       " 'HP 14s-fq1089AU Laptop (AMD Ryzen 3 5300U/8 GB/512 GB SSD/Windows 11/MSO/FHD) 35.56 cm (14 Inch)',\n",
       " 'HP 15s-eq2144au Laptop (AMD Ryzen 5 5500U Processor/8GB/512GB SSD/AMD Radeon Graphics/Windows 11/MSO/FHD) 39.6 cm (15.6 inch)',\n",
       " 'HP 15s-fr5009TU Standard Laptop (12th Gen Intel Core i3-1215U/8 GB/512 GB SSD/Intel UHD Graphics/Windows 11 Home/MSO/FHD), 39.6cm (15.6 inch)',\n",
       " 'HP 15-fd0011TU Standard Laptop (13th Gen Intel Core i5-1335U/8 GB/512 GB SSD/Intel Iris Xe Graphics /Windows 11 Home/MSO/Full HD), 39.6 cm (15.6 inch)',\n",
       " 'HP Pavilion 15-eg2002TU Laptop (Intel Core i5-1240P/16GB/512GB SSD/Intel Iris Xe Graphics/Windows 11 Home/FHD/MS), 39.6 cm (15.6 inch), 66C03PA',\n",
       " 'Acer Aspire Lite 11th Gen Intel Core i7 Laptop (Windows 11 Home/ 16 GB/ 512 GB SSD/ Intel Iris Xe Graphics/ Microsoft Office) AL15-51, 39.6 cm (15.6 inch) Full HD TN TFT LCD Display, Steel Gray',\n",
       " 'Apple MQKW3HN/A Macbook Air (Apple M2 chip/8 GB/256 GB SSD/mac OS/Retina), 38.91cm (15.3 inch) Midnight Blue',\n",
       " 'Acer Aspire 3 12th Gen Intel Core i3 Laptop (Windows 11 Home/ 8 GB/ 256 GB SSD/ Intel UHD Graphics/ Microsoft Office) AL15-51, 39.6 cm (15.6 Inch) Full HD TFT LCD Display, Pure Silver',\n",
       " 'Asus MB511WS VivoBook 16X Laptop (AMD Ryzen 5 5600H/16 GB/512 GB SSD/AMD Radeon Vega 7 Graphics/2K display/Windows 11/MSO/WUXGA)',\n",
       " 'Lenovo Ideapad Slim 3 Laptop (Intel Core i3 -1215U, 8 GB / 512 GB / / 3.3GHz/ Windows 11 Home /39.62 cm (15.6 inch) /FHD (1920x1080) /Smart Feature/Anti-glare)',\n",
       " 'HP 15-fc0026AU Standard Laptop (AMD Ryzen 3 7320U/8 GB/512 GB SSD/AMD Radeon Graphics/Windows 11 Home/MSO/FHD), 39.6cm (15.6 inch)',\n",
       " 'Asus EJ327WS Vivobook X515 Laptop (11th Gen Intel Core i3-1115G4/ 8GB/512GB SSD/Win 11 Home/MSO/FHD), 39.62 cm (15.6 inch)',\n",
       " 'Dell Inspiron 5430 Notebook Laptop (13th Gen Intel Core i5-1335U/16GB/1 TB SSD/Intel UMA Graphics/Windows 11/MSO/FHD), 35.56 cm (14 inch)',\n",
       " 'Apple MQKV3HN/A Macbook Air (Apple M2 chip/8 GB/512 GB SSD/mac OS/Retina), 38.91cm (15.3 inch) Starlight',\n",
       " 'HP 15s-eq2132AU Laptop (AMD Ryzen 5 5500U/16GB/512 GB SSD/AMD Radeon Graphics/Windows 11 Home/MSO/FHD), 39.6cm (15.6 inch)']"
      ]
     },
     "execution_count": 134,
     "metadata": {},
     "output_type": "execute_result"
    }
   ],
   "source": [
    "len(l)\n",
    "l"
   ]
  },
  {
   "cell_type": "code",
   "execution_count": 119,
   "id": "8a220a7e-5e2e-47c8-b005-919f5abe428f",
   "metadata": {},
   "outputs": [],
   "source": [
    "brand_name=[]\n",
    "for i in range(len(l)):\n",
    "    brand_name.append(l[i].split(' ')[0])"
   ]
  },
  {
   "cell_type": "code",
   "execution_count": 121,
   "id": "ab3066ae-1c7c-406f-86df-a19862dd774f",
   "metadata": {},
   "outputs": [
    {
     "data": {
      "text/plain": [
       "22"
      ]
     },
     "execution_count": 121,
     "metadata": {},
     "output_type": "execute_result"
    }
   ],
   "source": [
    "len(brand_name)"
   ]
  },
  {
   "cell_type": "code",
   "execution_count": 122,
   "id": "0649f6ed-6a8f-4955-89b9-9e7a784c2ea6",
   "metadata": {},
   "outputs": [],
   "source": [
    "# m.split('/')"
   ]
  },
  {
   "cell_type": "code",
   "execution_count": 126,
   "id": "dbffaef6-0c46-46d5-8734-13aecedc29d2",
   "metadata": {},
   "outputs": [],
   "source": [
    "laptop_model=[]\n",
    "for i in range(len(l)): \n",
    "    laptop_model.append(l[i].split('(')[0])"
   ]
  },
  {
   "cell_type": "code",
   "execution_count": 128,
   "id": "10613546-0079-4d29-9d59-505c63c494b2",
   "metadata": {},
   "outputs": [
    {
     "data": {
      "text/plain": [
       "22"
      ]
     },
     "execution_count": 128,
     "metadata": {},
     "output_type": "execute_result"
    }
   ],
   "source": [
    "len(laptop_model)"
   ]
  },
  {
   "cell_type": "code",
   "execution_count": 135,
   "id": "919ef3d4-92dd-45fc-be2c-716cd846be6a",
   "metadata": {},
   "outputs": [
    {
     "data": {
      "text/plain": [
       "'11th Gen Intel Core i5-1135G7/8 GB/512 GB SSD/Intel UMA Graphics/Windows 11/MSO/FHD), 39.62 cm '"
      ]
     },
     "execution_count": 135,
     "metadata": {},
     "output_type": "execute_result"
    }
   ],
   "source": [
    "l[0].split('(')[1]"
   ]
  },
  {
   "cell_type": "code",
   "execution_count": 136,
   "id": "a411cb04-3db1-4778-89f0-c3ca16c8439e",
   "metadata": {},
   "outputs": [
    {
     "data": {
      "text/plain": [
       "['Dell Inspiron 3511 Laptop (11th Gen Intel Core i5-1135G7/8 GB/512 GB SSD/Intel UMA Graphics/Windows 11/MSO/FHD), 39.62 cm (15.6 inch)',\n",
       " 'Apple MGN63HNA MacBook Air (Apple M1 Chip/8GB/256GB SSD/macOS Big Sur/Retina), 33.78 cm (13.3 inch)',\n",
       " 'Lenovo 8EIN IdeaPad Slim 3 Laptop (AMD Ryzen 3 7320U/8GB/512GB SSD/Integrated AMD Radeon 610M Graphics/Windows 11 Home/MSO/FHD), 39.62 cm (15.6 inch)',\n",
       " 'HP Pavilion EG3081TU Laptop (13th Gen Intel Core i5-1340P/16GB/512GB SSD/Intel Iris Xe Graphics/Windows 11 Home/MSO/FHD), 39.62cm (15.6 inch)',\n",
       " 'Dell Inspiron 5430 Notebook Laptop (13th Gen Intel Core i5-1335U/8GB/512 GB SSD/Intel UMA Graphics/Windows 11/MSO/FHD), 35.56 cm (14 inch)',\n",
       " 'Lenovo 4XIN IdeaPad Flex 5 Laptop (Intel Core i3-1315U/8GB/512GB SSD/Integrated Intel UHD Graphics/Windows 11 Home/MSO/WUXGA), 35.56 cm (14 inch)',\n",
       " 'HP Pavilion 15-eg3032TU Laptop (13th Gen Intel Core i7-1360P/16GB/512 GB SSD/Intel Xe Graphics/Windows 11 Home/MSO/FHD), 39.6cm (15.6 inch)',\n",
       " 'HP 14s-fq1089AU Laptop (AMD Ryzen 3 5300U/8 GB/512 GB SSD/Windows 11/MSO/FHD) 35.56 cm (14 Inch)',\n",
       " 'HP 15s-eq2144au Laptop (AMD Ryzen 5 5500U Processor/8GB/512GB SSD/AMD Radeon Graphics/Windows 11/MSO/FHD) 39.6 cm (15.6 inch)',\n",
       " 'HP 15s-fr5009TU Standard Laptop (12th Gen Intel Core i3-1215U/8 GB/512 GB SSD/Intel UHD Graphics/Windows 11 Home/MSO/FHD), 39.6cm (15.6 inch)',\n",
       " 'HP 15-fd0011TU Standard Laptop (13th Gen Intel Core i5-1335U/8 GB/512 GB SSD/Intel Iris Xe Graphics /Windows 11 Home/MSO/Full HD), 39.6 cm (15.6 inch)',\n",
       " 'HP Pavilion 15-eg2002TU Laptop (Intel Core i5-1240P/16GB/512GB SSD/Intel Iris Xe Graphics/Windows 11 Home/FHD/MS), 39.6 cm (15.6 inch), 66C03PA',\n",
       " 'Acer Aspire Lite 11th Gen Intel Core i7 Laptop (Windows 11 Home/ 16 GB/ 512 GB SSD/ Intel Iris Xe Graphics/ Microsoft Office) AL15-51, 39.6 cm (15.6 inch) Full HD TN TFT LCD Display, Steel Gray',\n",
       " 'Apple MQKW3HN/A Macbook Air (Apple M2 chip/8 GB/256 GB SSD/mac OS/Retina), 38.91cm (15.3 inch) Midnight Blue',\n",
       " 'Acer Aspire 3 12th Gen Intel Core i3 Laptop (Windows 11 Home/ 8 GB/ 256 GB SSD/ Intel UHD Graphics/ Microsoft Office) AL15-51, 39.6 cm (15.6 Inch) Full HD TFT LCD Display, Pure Silver',\n",
       " 'Asus MB511WS VivoBook 16X Laptop (AMD Ryzen 5 5600H/16 GB/512 GB SSD/AMD Radeon Vega 7 Graphics/2K display/Windows 11/MSO/WUXGA)',\n",
       " 'Lenovo Ideapad Slim 3 Laptop (Intel Core i3 -1215U, 8 GB / 512 GB / / 3.3GHz/ Windows 11 Home /39.62 cm (15.6 inch) /FHD (1920x1080) /Smart Feature/Anti-glare)',\n",
       " 'HP 15-fc0026AU Standard Laptop (AMD Ryzen 3 7320U/8 GB/512 GB SSD/AMD Radeon Graphics/Windows 11 Home/MSO/FHD), 39.6cm (15.6 inch)',\n",
       " 'Asus EJ327WS Vivobook X515 Laptop (11th Gen Intel Core i3-1115G4/ 8GB/512GB SSD/Win 11 Home/MSO/FHD), 39.62 cm (15.6 inch)',\n",
       " 'Dell Inspiron 5430 Notebook Laptop (13th Gen Intel Core i5-1335U/16GB/1 TB SSD/Intel UMA Graphics/Windows 11/MSO/FHD), 35.56 cm (14 inch)',\n",
       " 'Apple MQKV3HN/A Macbook Air (Apple M2 chip/8 GB/512 GB SSD/mac OS/Retina), 38.91cm (15.3 inch) Starlight',\n",
       " 'HP 15s-eq2132AU Laptop (AMD Ryzen 5 5500U/16GB/512 GB SSD/AMD Radeon Graphics/Windows 11 Home/MSO/FHD), 39.6cm (15.6 inch)']"
      ]
     },
     "execution_count": 136,
     "metadata": {},
     "output_type": "execute_result"
    }
   ],
   "source": [
    "l"
   ]
  },
  {
   "cell_type": "code",
   "execution_count": 147,
   "id": "bbf6e40e-14b5-49e7-9feb-fd8f78e98337",
   "metadata": {},
   "outputs": [],
   "source": [
    "laptop_processor=[]\n",
    "laptop_ram=[]\n",
    "laptop_ssd=[]\n",
    "laptop_graphics=[]\n",
    "laptop_os=[]\n",
    "for i in range(len(l)): \n",
    "    laptop_processor.append(l[i].split('(')[1].split('/')[0])\n",
    "    laptop_ram.append(l[i].split('(')[1].split('/')[1])\n",
    "    laptop_ssd.append(l[i].split('(')[1].split('/')[2])\n",
    "    laptop_graphics.append(l[i].split('(')[1].split('/')[3])\n",
    "    laptop_os.append(l[i].split('(')[1].split('/')[4])"
   ]
  },
  {
   "cell_type": "code",
   "execution_count": 146,
   "id": "347e4dda-a2cb-4e36-9074-1d71040f9c56",
   "metadata": {},
   "outputs": [
    {
     "data": {
      "text/plain": [
       "'11th Gen Intel Core i5-1135G7'"
      ]
     },
     "execution_count": 146,
     "metadata": {},
     "output_type": "execute_result"
    }
   ],
   "source": [
    "l[0].split('(')[1].split('/')[0]"
   ]
  },
  {
   "cell_type": "code",
   "execution_count": 150,
   "id": "28e1105b-9739-44c7-89f2-a8d249229f19",
   "metadata": {},
   "outputs": [
    {
     "data": {
      "text/plain": [
       "['512 GB SSD',\n",
       " '256GB SSD',\n",
       " '512GB SSD',\n",
       " '512GB SSD',\n",
       " '512 GB SSD',\n",
       " '512GB SSD',\n",
       " '512 GB SSD',\n",
       " '512 GB SSD',\n",
       " '512GB SSD',\n",
       " '512 GB SSD',\n",
       " '512 GB SSD',\n",
       " '512GB SSD',\n",
       " ' 512 GB SSD',\n",
       " '256 GB SSD',\n",
       " ' 256 GB SSD',\n",
       " '512 GB SSD',\n",
       " ' ',\n",
       " '512 GB SSD',\n",
       " '512GB SSD',\n",
       " '1 TB SSD',\n",
       " '512 GB SSD',\n",
       " '512 GB SSD']"
      ]
     },
     "execution_count": 150,
     "metadata": {},
     "output_type": "execute_result"
    }
   ],
   "source": [
    "laptop_ssd"
   ]
  },
  {
   "cell_type": "code",
   "execution_count": 151,
   "id": "69bd56c2-fa0c-4a68-a720-505458186633",
   "metadata": {},
   "outputs": [
    {
     "data": {
      "text/plain": [
       "['11th Gen Intel Core i5-1135G7',\n",
       " 'Apple M1 Chip',\n",
       " 'AMD Ryzen 3 7320U',\n",
       " '13th Gen Intel Core i5-1340P',\n",
       " '13th Gen Intel Core i5-1335U',\n",
       " 'Intel Core i3-1315U',\n",
       " '13th Gen Intel Core i7-1360P',\n",
       " 'AMD Ryzen 3 5300U',\n",
       " 'AMD Ryzen 5 5500U Processor',\n",
       " '12th Gen Intel Core i3-1215U',\n",
       " '13th Gen Intel Core i5-1335U',\n",
       " 'Intel Core i5-1240P',\n",
       " 'Windows 11 Home',\n",
       " 'Apple M2 chip',\n",
       " 'Windows 11 Home',\n",
       " 'AMD Ryzen 5 5600H',\n",
       " 'Intel Core i3 -1215U, 8 GB ',\n",
       " 'AMD Ryzen 3 7320U',\n",
       " '11th Gen Intel Core i3-1115G4',\n",
       " '13th Gen Intel Core i5-1335U',\n",
       " 'Apple M2 chip',\n",
       " 'AMD Ryzen 5 5500U']"
      ]
     },
     "execution_count": 151,
     "metadata": {},
     "output_type": "execute_result"
    }
   ],
   "source": [
    "laptop_processor"
   ]
  },
  {
   "cell_type": "code",
   "execution_count": 152,
   "id": "81c0108a-b01b-4af8-a325-1d3ae89336d5",
   "metadata": {},
   "outputs": [
    {
     "data": {
      "text/plain": [
       "22"
      ]
     },
     "execution_count": 152,
     "metadata": {},
     "output_type": "execute_result"
    }
   ],
   "source": [
    "len(laptop_processor)"
   ]
  },
  {
   "cell_type": "code",
   "execution_count": 155,
   "id": "02dffcf6-c70d-4aa6-aab3-61ec305a4a9e",
   "metadata": {},
   "outputs": [
    {
     "data": {
      "text/plain": [
       "['Windows 11',\n",
       " 'Retina), 33.78 cm ',\n",
       " 'Windows 11 Home',\n",
       " 'Windows 11 Home',\n",
       " 'Windows 11',\n",
       " 'Windows 11 Home',\n",
       " 'Windows 11 Home',\n",
       " 'MSO',\n",
       " 'Windows 11',\n",
       " 'Windows 11 Home',\n",
       " 'Windows 11 Home',\n",
       " 'Windows 11 Home',\n",
       " ' Microsoft Office) AL15-51, 39.6 cm ',\n",
       " 'Retina), 38.91cm ',\n",
       " ' Microsoft Office) AL15-51, 39.6 cm ',\n",
       " '2K display',\n",
       " ' Windows 11 Home ',\n",
       " 'Windows 11 Home',\n",
       " 'MSO',\n",
       " 'Windows 11',\n",
       " 'Retina), 38.91cm ',\n",
       " 'Windows 11 Home']"
      ]
     },
     "execution_count": 155,
     "metadata": {},
     "output_type": "execute_result"
    }
   ],
   "source": [
    "laptop_os"
   ]
  },
  {
   "cell_type": "code",
   "execution_count": 156,
   "id": "d95706dc-f7e0-4ea7-bced-71df8cfdd332",
   "metadata": {},
   "outputs": [
    {
     "data": {
      "text/plain": [
       "['Intel UMA Graphics',\n",
       " 'macOS Big Sur',\n",
       " 'Integrated AMD Radeon 610M Graphics',\n",
       " 'Intel Iris Xe Graphics',\n",
       " 'Intel UMA Graphics',\n",
       " 'Integrated Intel UHD Graphics',\n",
       " 'Intel Xe Graphics',\n",
       " 'Windows 11',\n",
       " 'AMD Radeon Graphics',\n",
       " 'Intel UHD Graphics',\n",
       " 'Intel Iris Xe Graphics ',\n",
       " 'Intel Iris Xe Graphics',\n",
       " ' Intel Iris Xe Graphics',\n",
       " 'mac OS',\n",
       " ' Intel UHD Graphics',\n",
       " 'AMD Radeon Vega 7 Graphics',\n",
       " ' 3.3GHz',\n",
       " 'AMD Radeon Graphics',\n",
       " 'Win 11 Home',\n",
       " 'Intel UMA Graphics',\n",
       " 'mac OS',\n",
       " 'AMD Radeon Graphics']"
      ]
     },
     "execution_count": 156,
     "metadata": {},
     "output_type": "execute_result"
    }
   ],
   "source": [
    "laptop_graphics"
   ]
  },
  {
   "cell_type": "code",
   "execution_count": 161,
   "id": "5f214f23-35bb-475c-ab1d-1cf577dfa842",
   "metadata": {},
   "outputs": [
    {
     "data": {
      "text/plain": [
       "['38,420.00',\n",
       " '68,000.00',\n",
       " '32,999.00',\n",
       " '35,920.00',\n",
       " '38,500.00',\n",
       " '31,999.00',\n",
       " '49,999.00',\n",
       " '35,500.00',\n",
       " '29,999.00',\n",
       " '58,499.00',\n",
       " '42,499.00',\n",
       " '1,59,699.00',\n",
       " '76,999.00',\n",
       " '38,490.00',\n",
       " '80,999.00',\n",
       " '35,499.00',\n",
       " '51,920.00',\n",
       " '62,500.00',\n",
       " '70,500.00',\n",
       " '1,16,899.00',\n",
       " '46,999.00',\n",
       " '1,36,900.00']"
      ]
     },
     "execution_count": 161,
     "metadata": {},
     "output_type": "execute_result"
    }
   ],
   "source": [
    "k"
   ]
  },
  {
   "cell_type": "code",
   "execution_count": 162,
   "id": "0cbac4bf-b830-42ad-b8b2-a736fac0de44",
   "metadata": {},
   "outputs": [
    {
     "data": {
      "text/plain": [
       "['Dell Inspiron 3511 Laptop (11th Gen Intel Core i5-1135G7/8 GB/512 GB SSD/Intel UMA Graphics/Windows 11/MSO/FHD), 39.62 cm (15.6 inch)',\n",
       " 'Apple MGN63HNA MacBook Air (Apple M1 Chip/8GB/256GB SSD/macOS Big Sur/Retina), 33.78 cm (13.3 inch)',\n",
       " 'Lenovo 8EIN IdeaPad Slim 3 Laptop (AMD Ryzen 3 7320U/8GB/512GB SSD/Integrated AMD Radeon 610M Graphics/Windows 11 Home/MSO/FHD), 39.62 cm (15.6 inch)',\n",
       " 'HP Pavilion EG3081TU Laptop (13th Gen Intel Core i5-1340P/16GB/512GB SSD/Intel Iris Xe Graphics/Windows 11 Home/MSO/FHD), 39.62cm (15.6 inch)',\n",
       " 'Dell Inspiron 5430 Notebook Laptop (13th Gen Intel Core i5-1335U/8GB/512 GB SSD/Intel UMA Graphics/Windows 11/MSO/FHD), 35.56 cm (14 inch)',\n",
       " 'Lenovo 4XIN IdeaPad Flex 5 Laptop (Intel Core i3-1315U/8GB/512GB SSD/Integrated Intel UHD Graphics/Windows 11 Home/MSO/WUXGA), 35.56 cm (14 inch)',\n",
       " 'HP Pavilion 15-eg3032TU Laptop (13th Gen Intel Core i7-1360P/16GB/512 GB SSD/Intel Xe Graphics/Windows 11 Home/MSO/FHD), 39.6cm (15.6 inch)',\n",
       " 'HP 14s-fq1089AU Laptop (AMD Ryzen 3 5300U/8 GB/512 GB SSD/Windows 11/MSO/FHD) 35.56 cm (14 Inch)',\n",
       " 'HP 15s-eq2144au Laptop (AMD Ryzen 5 5500U Processor/8GB/512GB SSD/AMD Radeon Graphics/Windows 11/MSO/FHD) 39.6 cm (15.6 inch)',\n",
       " 'HP 15s-fr5009TU Standard Laptop (12th Gen Intel Core i3-1215U/8 GB/512 GB SSD/Intel UHD Graphics/Windows 11 Home/MSO/FHD), 39.6cm (15.6 inch)',\n",
       " 'HP 15-fd0011TU Standard Laptop (13th Gen Intel Core i5-1335U/8 GB/512 GB SSD/Intel Iris Xe Graphics /Windows 11 Home/MSO/Full HD), 39.6 cm (15.6 inch)',\n",
       " 'HP Pavilion 15-eg2002TU Laptop (Intel Core i5-1240P/16GB/512GB SSD/Intel Iris Xe Graphics/Windows 11 Home/FHD/MS), 39.6 cm (15.6 inch), 66C03PA',\n",
       " 'Acer Aspire Lite 11th Gen Intel Core i7 Laptop (Windows 11 Home/ 16 GB/ 512 GB SSD/ Intel Iris Xe Graphics/ Microsoft Office) AL15-51, 39.6 cm (15.6 inch) Full HD TN TFT LCD Display, Steel Gray',\n",
       " 'Apple MQKW3HN/A Macbook Air (Apple M2 chip/8 GB/256 GB SSD/mac OS/Retina), 38.91cm (15.3 inch) Midnight Blue',\n",
       " 'Acer Aspire 3 12th Gen Intel Core i3 Laptop (Windows 11 Home/ 8 GB/ 256 GB SSD/ Intel UHD Graphics/ Microsoft Office) AL15-51, 39.6 cm (15.6 Inch) Full HD TFT LCD Display, Pure Silver',\n",
       " 'Asus MB511WS VivoBook 16X Laptop (AMD Ryzen 5 5600H/16 GB/512 GB SSD/AMD Radeon Vega 7 Graphics/2K display/Windows 11/MSO/WUXGA)',\n",
       " 'Lenovo Ideapad Slim 3 Laptop (Intel Core i3 -1215U, 8 GB / 512 GB / / 3.3GHz/ Windows 11 Home /39.62 cm (15.6 inch) /FHD (1920x1080) /Smart Feature/Anti-glare)',\n",
       " 'HP 15-fc0026AU Standard Laptop (AMD Ryzen 3 7320U/8 GB/512 GB SSD/AMD Radeon Graphics/Windows 11 Home/MSO/FHD), 39.6cm (15.6 inch)',\n",
       " 'Asus EJ327WS Vivobook X515 Laptop (11th Gen Intel Core i3-1115G4/ 8GB/512GB SSD/Win 11 Home/MSO/FHD), 39.62 cm (15.6 inch)',\n",
       " 'Dell Inspiron 5430 Notebook Laptop (13th Gen Intel Core i5-1335U/16GB/1 TB SSD/Intel UMA Graphics/Windows 11/MSO/FHD), 35.56 cm (14 inch)',\n",
       " 'Apple MQKV3HN/A Macbook Air (Apple M2 chip/8 GB/512 GB SSD/mac OS/Retina), 38.91cm (15.3 inch) Starlight',\n",
       " 'HP 15s-eq2132AU Laptop (AMD Ryzen 5 5500U/16GB/512 GB SSD/AMD Radeon Graphics/Windows 11 Home/MSO/FHD), 39.6cm (15.6 inch)']"
      ]
     },
     "execution_count": 162,
     "metadata": {},
     "output_type": "execute_result"
    }
   ],
   "source": [
    "l"
   ]
  },
  {
   "cell_type": "code",
   "execution_count": 166,
   "id": "98254dda-fe2f-477d-ac45-c336d8fd8ef1",
   "metadata": {},
   "outputs": [],
   "source": [
    "import pandas as pd \n",
    "df = pd.DataFrame({\n",
    "    'brand Name':brand_name, \n",
    "    'Model Name':laptop_model,\n",
    "    'RAM':laptop_ram, \n",
    "    'Processor':laptop_processor, \n",
    "    'SSD':laptop_ssd, \n",
    "    'OS':laptop_os,\n",
    "    'Graphices Card':laptop_graphics\n",
    "})\n"
   ]
  },
  {
   "cell_type": "code",
   "execution_count": 167,
   "id": "ea1b38b6-6395-4402-a29c-fe0f3c23e7d8",
   "metadata": {},
   "outputs": [
    {
     "data": {
      "text/html": [
       "<div>\n",
       "<style scoped>\n",
       "    .dataframe tbody tr th:only-of-type {\n",
       "        vertical-align: middle;\n",
       "    }\n",
       "\n",
       "    .dataframe tbody tr th {\n",
       "        vertical-align: top;\n",
       "    }\n",
       "\n",
       "    .dataframe thead th {\n",
       "        text-align: right;\n",
       "    }\n",
       "</style>\n",
       "<table border=\"1\" class=\"dataframe\">\n",
       "  <thead>\n",
       "    <tr style=\"text-align: right;\">\n",
       "      <th></th>\n",
       "      <th>brand Name</th>\n",
       "      <th>Model Name</th>\n",
       "      <th>RAM</th>\n",
       "      <th>Processor</th>\n",
       "      <th>SSD</th>\n",
       "      <th>OS</th>\n",
       "      <th>Graphices Card</th>\n",
       "    </tr>\n",
       "  </thead>\n",
       "  <tbody>\n",
       "    <tr>\n",
       "      <th>0</th>\n",
       "      <td>Dell</td>\n",
       "      <td>Dell Inspiron 3511 Laptop</td>\n",
       "      <td>8 GB</td>\n",
       "      <td>11th Gen Intel Core i5-1135G7</td>\n",
       "      <td>512 GB SSD</td>\n",
       "      <td>Windows 11</td>\n",
       "      <td>Intel UMA Graphics</td>\n",
       "    </tr>\n",
       "    <tr>\n",
       "      <th>1</th>\n",
       "      <td>Apple</td>\n",
       "      <td>Apple MGN63HNA MacBook Air</td>\n",
       "      <td>8GB</td>\n",
       "      <td>Apple M1 Chip</td>\n",
       "      <td>256GB SSD</td>\n",
       "      <td>Retina), 33.78 cm</td>\n",
       "      <td>macOS Big Sur</td>\n",
       "    </tr>\n",
       "    <tr>\n",
       "      <th>2</th>\n",
       "      <td>Lenovo</td>\n",
       "      <td>Lenovo 8EIN IdeaPad Slim 3 Laptop</td>\n",
       "      <td>8GB</td>\n",
       "      <td>AMD Ryzen 3 7320U</td>\n",
       "      <td>512GB SSD</td>\n",
       "      <td>Windows 11 Home</td>\n",
       "      <td>Integrated AMD Radeon 610M Graphics</td>\n",
       "    </tr>\n",
       "    <tr>\n",
       "      <th>3</th>\n",
       "      <td>HP</td>\n",
       "      <td>HP Pavilion EG3081TU Laptop</td>\n",
       "      <td>16GB</td>\n",
       "      <td>13th Gen Intel Core i5-1340P</td>\n",
       "      <td>512GB SSD</td>\n",
       "      <td>Windows 11 Home</td>\n",
       "      <td>Intel Iris Xe Graphics</td>\n",
       "    </tr>\n",
       "    <tr>\n",
       "      <th>4</th>\n",
       "      <td>Dell</td>\n",
       "      <td>Dell Inspiron 5430 Notebook Laptop</td>\n",
       "      <td>8GB</td>\n",
       "      <td>13th Gen Intel Core i5-1335U</td>\n",
       "      <td>512 GB SSD</td>\n",
       "      <td>Windows 11</td>\n",
       "      <td>Intel UMA Graphics</td>\n",
       "    </tr>\n",
       "    <tr>\n",
       "      <th>5</th>\n",
       "      <td>Lenovo</td>\n",
       "      <td>Lenovo 4XIN IdeaPad Flex 5 Laptop</td>\n",
       "      <td>8GB</td>\n",
       "      <td>Intel Core i3-1315U</td>\n",
       "      <td>512GB SSD</td>\n",
       "      <td>Windows 11 Home</td>\n",
       "      <td>Integrated Intel UHD Graphics</td>\n",
       "    </tr>\n",
       "    <tr>\n",
       "      <th>6</th>\n",
       "      <td>HP</td>\n",
       "      <td>HP Pavilion 15-eg3032TU Laptop</td>\n",
       "      <td>16GB</td>\n",
       "      <td>13th Gen Intel Core i7-1360P</td>\n",
       "      <td>512 GB SSD</td>\n",
       "      <td>Windows 11 Home</td>\n",
       "      <td>Intel Xe Graphics</td>\n",
       "    </tr>\n",
       "    <tr>\n",
       "      <th>7</th>\n",
       "      <td>HP</td>\n",
       "      <td>HP 14s-fq1089AU Laptop</td>\n",
       "      <td>8 GB</td>\n",
       "      <td>AMD Ryzen 3 5300U</td>\n",
       "      <td>512 GB SSD</td>\n",
       "      <td>MSO</td>\n",
       "      <td>Windows 11</td>\n",
       "    </tr>\n",
       "    <tr>\n",
       "      <th>8</th>\n",
       "      <td>HP</td>\n",
       "      <td>HP 15s-eq2144au Laptop</td>\n",
       "      <td>8GB</td>\n",
       "      <td>AMD Ryzen 5 5500U Processor</td>\n",
       "      <td>512GB SSD</td>\n",
       "      <td>Windows 11</td>\n",
       "      <td>AMD Radeon Graphics</td>\n",
       "    </tr>\n",
       "    <tr>\n",
       "      <th>9</th>\n",
       "      <td>HP</td>\n",
       "      <td>HP 15s-fr5009TU Standard Laptop</td>\n",
       "      <td>8 GB</td>\n",
       "      <td>12th Gen Intel Core i3-1215U</td>\n",
       "      <td>512 GB SSD</td>\n",
       "      <td>Windows 11 Home</td>\n",
       "      <td>Intel UHD Graphics</td>\n",
       "    </tr>\n",
       "    <tr>\n",
       "      <th>10</th>\n",
       "      <td>HP</td>\n",
       "      <td>HP 15-fd0011TU Standard Laptop</td>\n",
       "      <td>8 GB</td>\n",
       "      <td>13th Gen Intel Core i5-1335U</td>\n",
       "      <td>512 GB SSD</td>\n",
       "      <td>Windows 11 Home</td>\n",
       "      <td>Intel Iris Xe Graphics</td>\n",
       "    </tr>\n",
       "    <tr>\n",
       "      <th>11</th>\n",
       "      <td>HP</td>\n",
       "      <td>HP Pavilion 15-eg2002TU Laptop</td>\n",
       "      <td>16GB</td>\n",
       "      <td>Intel Core i5-1240P</td>\n",
       "      <td>512GB SSD</td>\n",
       "      <td>Windows 11 Home</td>\n",
       "      <td>Intel Iris Xe Graphics</td>\n",
       "    </tr>\n",
       "    <tr>\n",
       "      <th>12</th>\n",
       "      <td>Acer</td>\n",
       "      <td>Acer Aspire Lite 11th Gen Intel Core i7 Laptop</td>\n",
       "      <td>16 GB</td>\n",
       "      <td>Windows 11 Home</td>\n",
       "      <td>512 GB SSD</td>\n",
       "      <td>Microsoft Office) AL15-51, 39.6 cm</td>\n",
       "      <td>Intel Iris Xe Graphics</td>\n",
       "    </tr>\n",
       "    <tr>\n",
       "      <th>13</th>\n",
       "      <td>Apple</td>\n",
       "      <td>Apple MQKW3HN/A Macbook Air</td>\n",
       "      <td>8 GB</td>\n",
       "      <td>Apple M2 chip</td>\n",
       "      <td>256 GB SSD</td>\n",
       "      <td>Retina), 38.91cm</td>\n",
       "      <td>mac OS</td>\n",
       "    </tr>\n",
       "    <tr>\n",
       "      <th>14</th>\n",
       "      <td>Acer</td>\n",
       "      <td>Acer Aspire 3 12th Gen Intel Core i3 Laptop</td>\n",
       "      <td>8 GB</td>\n",
       "      <td>Windows 11 Home</td>\n",
       "      <td>256 GB SSD</td>\n",
       "      <td>Microsoft Office) AL15-51, 39.6 cm</td>\n",
       "      <td>Intel UHD Graphics</td>\n",
       "    </tr>\n",
       "    <tr>\n",
       "      <th>15</th>\n",
       "      <td>Asus</td>\n",
       "      <td>Asus MB511WS VivoBook 16X Laptop</td>\n",
       "      <td>16 GB</td>\n",
       "      <td>AMD Ryzen 5 5600H</td>\n",
       "      <td>512 GB SSD</td>\n",
       "      <td>2K display</td>\n",
       "      <td>AMD Radeon Vega 7 Graphics</td>\n",
       "    </tr>\n",
       "    <tr>\n",
       "      <th>16</th>\n",
       "      <td>Lenovo</td>\n",
       "      <td>Lenovo Ideapad Slim 3 Laptop</td>\n",
       "      <td>512 GB</td>\n",
       "      <td>Intel Core i3 -1215U, 8 GB</td>\n",
       "      <td></td>\n",
       "      <td>Windows 11 Home</td>\n",
       "      <td>3.3GHz</td>\n",
       "    </tr>\n",
       "    <tr>\n",
       "      <th>17</th>\n",
       "      <td>HP</td>\n",
       "      <td>HP 15-fc0026AU Standard Laptop</td>\n",
       "      <td>8 GB</td>\n",
       "      <td>AMD Ryzen 3 7320U</td>\n",
       "      <td>512 GB SSD</td>\n",
       "      <td>Windows 11 Home</td>\n",
       "      <td>AMD Radeon Graphics</td>\n",
       "    </tr>\n",
       "    <tr>\n",
       "      <th>18</th>\n",
       "      <td>Asus</td>\n",
       "      <td>Asus EJ327WS Vivobook X515 Laptop</td>\n",
       "      <td>8GB</td>\n",
       "      <td>11th Gen Intel Core i3-1115G4</td>\n",
       "      <td>512GB SSD</td>\n",
       "      <td>MSO</td>\n",
       "      <td>Win 11 Home</td>\n",
       "    </tr>\n",
       "    <tr>\n",
       "      <th>19</th>\n",
       "      <td>Dell</td>\n",
       "      <td>Dell Inspiron 5430 Notebook Laptop</td>\n",
       "      <td>16GB</td>\n",
       "      <td>13th Gen Intel Core i5-1335U</td>\n",
       "      <td>1 TB SSD</td>\n",
       "      <td>Windows 11</td>\n",
       "      <td>Intel UMA Graphics</td>\n",
       "    </tr>\n",
       "    <tr>\n",
       "      <th>20</th>\n",
       "      <td>Apple</td>\n",
       "      <td>Apple MQKV3HN/A Macbook Air</td>\n",
       "      <td>8 GB</td>\n",
       "      <td>Apple M2 chip</td>\n",
       "      <td>512 GB SSD</td>\n",
       "      <td>Retina), 38.91cm</td>\n",
       "      <td>mac OS</td>\n",
       "    </tr>\n",
       "    <tr>\n",
       "      <th>21</th>\n",
       "      <td>HP</td>\n",
       "      <td>HP 15s-eq2132AU Laptop</td>\n",
       "      <td>16GB</td>\n",
       "      <td>AMD Ryzen 5 5500U</td>\n",
       "      <td>512 GB SSD</td>\n",
       "      <td>Windows 11 Home</td>\n",
       "      <td>AMD Radeon Graphics</td>\n",
       "    </tr>\n",
       "  </tbody>\n",
       "</table>\n",
       "</div>"
      ],
      "text/plain": [
       "   brand Name                                       Model Name       RAM  \\\n",
       "0        Dell                       Dell Inspiron 3511 Laptop       8 GB   \n",
       "1       Apple                      Apple MGN63HNA MacBook Air        8GB   \n",
       "2      Lenovo               Lenovo 8EIN IdeaPad Slim 3 Laptop        8GB   \n",
       "3          HP                     HP Pavilion EG3081TU Laptop       16GB   \n",
       "4        Dell              Dell Inspiron 5430 Notebook Laptop        8GB   \n",
       "5      Lenovo               Lenovo 4XIN IdeaPad Flex 5 Laptop        8GB   \n",
       "6          HP                  HP Pavilion 15-eg3032TU Laptop       16GB   \n",
       "7          HP                          HP 14s-fq1089AU Laptop       8 GB   \n",
       "8          HP                          HP 15s-eq2144au Laptop        8GB   \n",
       "9          HP                 HP 15s-fr5009TU Standard Laptop       8 GB   \n",
       "10         HP                  HP 15-fd0011TU Standard Laptop       8 GB   \n",
       "11         HP                  HP Pavilion 15-eg2002TU Laptop       16GB   \n",
       "12       Acer  Acer Aspire Lite 11th Gen Intel Core i7 Laptop      16 GB   \n",
       "13      Apple                     Apple MQKW3HN/A Macbook Air       8 GB   \n",
       "14       Acer     Acer Aspire 3 12th Gen Intel Core i3 Laptop       8 GB   \n",
       "15       Asus                Asus MB511WS VivoBook 16X Laptop      16 GB   \n",
       "16     Lenovo                    Lenovo Ideapad Slim 3 Laptop    512 GB    \n",
       "17         HP                  HP 15-fc0026AU Standard Laptop       8 GB   \n",
       "18       Asus               Asus EJ327WS Vivobook X515 Laptop        8GB   \n",
       "19       Dell              Dell Inspiron 5430 Notebook Laptop       16GB   \n",
       "20      Apple                     Apple MQKV3HN/A Macbook Air       8 GB   \n",
       "21         HP                          HP 15s-eq2132AU Laptop       16GB   \n",
       "\n",
       "                        Processor          SSD  \\\n",
       "0   11th Gen Intel Core i5-1135G7   512 GB SSD   \n",
       "1                   Apple M1 Chip    256GB SSD   \n",
       "2               AMD Ryzen 3 7320U    512GB SSD   \n",
       "3    13th Gen Intel Core i5-1340P    512GB SSD   \n",
       "4    13th Gen Intel Core i5-1335U   512 GB SSD   \n",
       "5             Intel Core i3-1315U    512GB SSD   \n",
       "6    13th Gen Intel Core i7-1360P   512 GB SSD   \n",
       "7               AMD Ryzen 3 5300U   512 GB SSD   \n",
       "8     AMD Ryzen 5 5500U Processor    512GB SSD   \n",
       "9    12th Gen Intel Core i3-1215U   512 GB SSD   \n",
       "10   13th Gen Intel Core i5-1335U   512 GB SSD   \n",
       "11            Intel Core i5-1240P    512GB SSD   \n",
       "12                Windows 11 Home   512 GB SSD   \n",
       "13                  Apple M2 chip   256 GB SSD   \n",
       "14                Windows 11 Home   256 GB SSD   \n",
       "15              AMD Ryzen 5 5600H   512 GB SSD   \n",
       "16    Intel Core i3 -1215U, 8 GB                 \n",
       "17              AMD Ryzen 3 7320U   512 GB SSD   \n",
       "18  11th Gen Intel Core i3-1115G4    512GB SSD   \n",
       "19   13th Gen Intel Core i5-1335U     1 TB SSD   \n",
       "20                  Apple M2 chip   512 GB SSD   \n",
       "21              AMD Ryzen 5 5500U   512 GB SSD   \n",
       "\n",
       "                                      OS                       Graphices Card  \n",
       "0                             Windows 11                   Intel UMA Graphics  \n",
       "1                     Retina), 33.78 cm                         macOS Big Sur  \n",
       "2                        Windows 11 Home  Integrated AMD Radeon 610M Graphics  \n",
       "3                        Windows 11 Home               Intel Iris Xe Graphics  \n",
       "4                             Windows 11                   Intel UMA Graphics  \n",
       "5                        Windows 11 Home        Integrated Intel UHD Graphics  \n",
       "6                        Windows 11 Home                    Intel Xe Graphics  \n",
       "7                                    MSO                           Windows 11  \n",
       "8                             Windows 11                  AMD Radeon Graphics  \n",
       "9                        Windows 11 Home                   Intel UHD Graphics  \n",
       "10                       Windows 11 Home              Intel Iris Xe Graphics   \n",
       "11                       Windows 11 Home               Intel Iris Xe Graphics  \n",
       "12   Microsoft Office) AL15-51, 39.6 cm                Intel Iris Xe Graphics  \n",
       "13                     Retina), 38.91cm                                mac OS  \n",
       "14   Microsoft Office) AL15-51, 39.6 cm                    Intel UHD Graphics  \n",
       "15                            2K display           AMD Radeon Vega 7 Graphics  \n",
       "16                      Windows 11 Home                                3.3GHz  \n",
       "17                       Windows 11 Home                  AMD Radeon Graphics  \n",
       "18                                   MSO                          Win 11 Home  \n",
       "19                            Windows 11                   Intel UMA Graphics  \n",
       "20                     Retina), 38.91cm                                mac OS  \n",
       "21                       Windows 11 Home                  AMD Radeon Graphics  "
      ]
     },
     "execution_count": 167,
     "metadata": {},
     "output_type": "execute_result"
    }
   ],
   "source": [
    "df"
   ]
  },
  {
   "cell_type": "code",
   "execution_count": null,
   "id": "730b495d-b33b-4ebb-8f48-f7a331a26d72",
   "metadata": {},
   "outputs": [],
   "source": []
  }
 ],
 "metadata": {
  "kernelspec": {
   "display_name": "Python 3 (ipykernel)",
   "language": "python",
   "name": "python3"
  },
  "language_info": {
   "codemirror_mode": {
    "name": "ipython",
    "version": 3
   },
   "file_extension": ".py",
   "mimetype": "text/x-python",
   "name": "python",
   "nbconvert_exporter": "python",
   "pygments_lexer": "ipython3",
   "version": "3.11.7"
  },
  "widgets": {
   "application/vnd.jupyter.widget-state+json": {
    "state": {},
    "version_major": 2,
    "version_minor": 0
   }
  }
 },
 "nbformat": 4,
 "nbformat_minor": 5
}
