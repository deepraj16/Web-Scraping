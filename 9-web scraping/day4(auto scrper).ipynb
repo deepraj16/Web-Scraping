{
 "cells": [
  {
   "cell_type": "code",
   "execution_count": null,
   "id": "6db76971-8c63-4bc3-b2b6-3b465fe28ecc",
   "metadata": {},
   "outputs": [],
   "source": []
  },
  {
   "cell_type": "code",
   "execution_count": 2,
   "id": "e078d226-7dc5-451d-894a-b401c8ff8c93",
   "metadata": {},
   "outputs": [
    {
     "name": "stdout",
     "output_type": "stream",
     "text": [
      "Collecting autoscraper\n",
      "  Downloading autoscraper-1.1.14-py3-none-any.whl.metadata (5.3 kB)\n",
      "Requirement already satisfied: requests in c:\\users\\raj\\anaconda3\\lib\\site-packages (from autoscraper) (2.31.0)\n",
      "Collecting bs4 (from autoscraper)\n",
      "  Downloading bs4-0.0.2-py2.py3-none-any.whl.metadata (411 bytes)\n",
      "Requirement already satisfied: lxml in c:\\users\\raj\\anaconda3\\lib\\site-packages (from autoscraper) (4.9.3)\n",
      "Requirement already satisfied: beautifulsoup4 in c:\\users\\raj\\anaconda3\\lib\\site-packages (from bs4->autoscraper) (4.12.2)\n",
      "Requirement already satisfied: charset-normalizer<4,>=2 in c:\\users\\raj\\anaconda3\\lib\\site-packages (from requests->autoscraper) (2.0.4)\n",
      "Requirement already satisfied: idna<4,>=2.5 in c:\\users\\raj\\anaconda3\\lib\\site-packages (from requests->autoscraper) (3.4)\n",
      "Requirement already satisfied: urllib3<3,>=1.21.1 in c:\\users\\raj\\anaconda3\\lib\\site-packages (from requests->autoscraper) (2.0.7)\n",
      "Requirement already satisfied: certifi>=2017.4.17 in c:\\users\\raj\\anaconda3\\lib\\site-packages (from requests->autoscraper) (2024.6.2)\n",
      "Requirement already satisfied: soupsieve>1.2 in c:\\users\\raj\\anaconda3\\lib\\site-packages (from beautifulsoup4->bs4->autoscraper) (2.5)\n",
      "Downloading autoscraper-1.1.14-py3-none-any.whl (10 kB)\n",
      "Downloading bs4-0.0.2-py2.py3-none-any.whl (1.2 kB)\n",
      "Installing collected packages: bs4, autoscraper\n",
      "Successfully installed autoscraper-1.1.14 bs4-0.0.2\n"
     ]
    }
   ],
   "source": [
    "! pip install autoscraper"
   ]
  },
  {
   "cell_type": "code",
   "execution_count": 3,
   "id": "13a4b291-328b-4c77-bfc2-37661fc6acb9",
   "metadata": {},
   "outputs": [],
   "source": [
    "from autoscraper import AutoScraper "
   ]
  },
  {
   "cell_type": "code",
   "execution_count": 5,
   "id": "a85eab02-9356-41eb-841b-9f49019a0b58",
   "metadata": {},
   "outputs": [],
   "source": [
    "amzon_url =\"https://www.amazon.in/s?k=headphone&ref=nb_sb_noss\"\n",
    "want_list=[\"₹329\",\"boAt BassHeads 100 in-Ear Wired Headphones with Mic (Black)\",\"245,691\"]"
   ]
  },
  {
   "cell_type": "code",
   "execution_count": 6,
   "id": "29782d4a-7d28-4188-b375-7586fb1164d5",
   "metadata": {},
   "outputs": [],
   "source": [
    "scrp=AutoScraper()"
   ]
  },
  {
   "cell_type": "code",
   "execution_count": 7,
   "id": "57bffc5d-ef91-48c9-9934-b7b079e5eb8e",
   "metadata": {},
   "outputs": [
    {
     "name": "stdout",
     "output_type": "stream",
     "text": [
      "['₹1,999', '₹329', '₹1,499', '₹799', '₹499', '₹999', '₹2,499', '₹750', '₹598', '₹949', '₹159', '₹2,299', '₹749', 'Amazon\\'s Choicefor \"headphones\"', 'boAt Rockerz 450 Bluetooth On Ear Headphones with Mic, Upto 15 Hours Playback, 40MM Drivers, Padded Ear Cushions, Integrated Controls and Dual Modes(Aqua Blue)', 'Best sellerin Electronics', 'boAt BassHeads 100 in-Ear Wired Headphones with Mic (Black)', 'Best sellerin Over-Ear Headphones', 'boAt Rockerz 425 Bluetooth Wireless Over Ear Headphones with Mic Signature Sound, Beast Mode for Gaming, Enx Tech, ASAP Charge, 25H Playtime, Bluetooth V5.2 (Active Black)', 'ZEBRONICS Thunder Bluetooth 5.3 Wireless Over Ear Headphones with 60H Backup, Gaming Mode, Dual Pairing, ENC, AUX, Micro SD, Voice Assistant, Comfortable Earcups, Call Function(Sea Green)', 'boAt Rockerz 425 Bluetooth Wireless On Ear Headphones Signature Sound, ENx Tech, ASAP Charge, 25H Playtime, Bluetooth V5.2, Dual Pairing with Mic(Techno Purple)', 'boAt Rockerz 450 Bluetooth On Ear Headphones with Mic, Upto 15 Hours Playback, 40MM Drivers, Padded Ear Cushions, Integrated Controls and Dual Modes(Hazel Beige)', 'Zebronics Zeb-Storm Wired On Ear Headphone with 3.5mm Jack, Built-in Microphone for Calling, 1.5 Meter Cable, Soft Ear Cushion, Adjustable Headband, Foldable Ear Cups and Lightweight Design (Black)', 'ZEBRONICS Zeb-Thunder PRO On-Ear Wireless Headphone Up to 60 Hours Playback, Wired Mode, USB-C Type Charging(Black)', 'boAt Rockerz 550 Over Ear Bluetooth Headphones with Upto 20 Hours Playback, 50MM Drivers, Soft Padded Ear Cushions and Physical Noise Isolation(Black)', 'Sony MDR-ZX110A Wired On Ear Headphone without Mic (White)', 'JBL C100SI Wired In Ear Headphones with Mic, JBL Pure Bass Sound, One Button Multi-function Remote, Premium Metallic Finish, Angled Buds for Comfort fit (Black)', 'Sony Mdr-Zx310Ap Wired On Ear Headphones with Mic (Blue)', 'ZEBRONICS Zeb-Bro in Ear Wired Earphones with Mic, 3.5mm Audio Jack, 10mm Drivers, Phone/Tablet Compatible(Blue)', 'boAt Rockerz 550 Bluetooth Wireless Over Ear Headphones with Upto 20 Hours Playback, 50MM Drivers, Soft Padded Ear Cushions and Physical Noise Isolation with Mic (Black Symphony)', 'ZEBRONICS THUNDER Bluetooth 5.3 Wireless Headphones with 60H Backup, Gaming Mode, Dual Pairing, ENC, AUX, Micro SD, Voice assistant, Comfortable Earcups, Call Function(Black)', 'ZEBRONICS Thunder Bluetooth 5.3 Over ear Wireless Headphones with 60H Backup, Gaming Mode, Dual Pairing, ENC, AUX, Micro SD, Voice Assistant, Comfortable Earcups, Call Function(Teal Green)', 'boAt Rockerz 450 Bluetooth On Ear Headphones with Mic, Upto 15 Hours Playback, 40MM Drivers, Padded Ear Cushions, Integrat...', 'boAt Rockerz 425 Bluetooth Wireless Over Ear Headphones with Mic Signature Sound, Beast Mode for Gaming, Enx Tech, ASAP Ch...', 'ZEBRONICS Thunder Bluetooth 5.3 Wireless Over Ear Headphones with 60H Backup, Gaming Mode, Dual Pairing, ENC, AUX, Micro S...', 'boAt Rockerz 425 Bluetooth Wireless On Ear Headphones Signature Sound, ENx Tech, ASAP Charge, 25H Playtime, Bluetooth V5....', 'Zebronics Zeb-Storm Wired On Ear Headphone with 3.5mm Jack, Built-in Microphone for Calling, 1.5 Meter Cable, Soft Ear Cus...', 'boAt Rockerz 550 Over Ear Bluetooth Headphones with Upto 20 Hours Playback, 50MM Drivers, Soft Padded Ear Cushions and Phy...', 'JBL C100SI Wired In Ear Headphones with Mic, JBL Pure Bass Sound, One Button Multi-function Remote, Premium Metallic Finis...', 'boAt Rockerz 550 Bluetooth Wireless Over Ear Headphones with Upto 20 Hours Playback, 50MM Drivers, Soft Padded Ear Cushion...', 'ZEBRONICS THUNDER Bluetooth 5.3 Wireless Headphones with 60H Backup, Gaming Mode, Dual Pairing, ENC, AUX, Micro SD, Voice ...', 'ZEBRONICS Thunder Bluetooth 5.3 Over ear Wireless Headphones with 60H Backup, Gaming Mode, Dual Pairing, ENC, AUX, Micro S...', '113,354', '245,691', '2,269', '52,317', '2,435', '62,742', '65,387', '212,079', '244', '52,245', '23,433']\n"
     ]
    }
   ],
   "source": [
    "result=scrp.build(amzon_url,want_list)\n",
    "print(result)"
   ]
  },
  {
   "cell_type": "code",
   "execution_count": 8,
   "id": "36c3384c-eebb-47f7-9b2d-be440c77b209",
   "metadata": {},
   "outputs": [
    {
     "data": {
      "text/plain": [
       "{'rule_zbdq': ['₹1,999',\n",
       "  '₹329',\n",
       "  '₹1,499',\n",
       "  '₹799',\n",
       "  '₹1,499',\n",
       "  '₹1,999',\n",
       "  '₹2,499',\n",
       "  '₹499',\n",
       "  '₹999',\n",
       "  '₹658.90',\n",
       "  '₹750',\n",
       "  '₹949',\n",
       "  '₹2,299',\n",
       "  '₹159',\n",
       "  '₹799',\n",
       "  '₹749'],\n",
       " 'rule_5ayn': ['₹1,999',\n",
       "  '₹329',\n",
       "  '₹1,499',\n",
       "  '₹799',\n",
       "  '₹1,499',\n",
       "  '₹1,999',\n",
       "  '₹2,499',\n",
       "  '₹499',\n",
       "  '₹999',\n",
       "  '₹658.90',\n",
       "  '₹750',\n",
       "  '₹949',\n",
       "  '₹2,299',\n",
       "  '₹159',\n",
       "  '₹799',\n",
       "  '₹749'],\n",
       " 'rule_4b2s': ['Amazon\\'s Choicefor \"headphones\"',\n",
       "  'boAt Rockerz 450 Bluetooth On Ear Headphones with Mic, Upto 15 Hours Playback, 40MM Drivers, Padded Ear Cushions, Integrated Controls and Dual Modes(Aqua Blue)',\n",
       "  'Best sellerin Electronics',\n",
       "  'boAt BassHeads 100 in-Ear Wired Headphones with Mic (Black)',\n",
       "  'Best sellerin Over-Ear Headphones',\n",
       "  'boAt Rockerz 425 Bluetooth Wireless Over Ear Headphones with Mic Signature Sound, Beast Mode for Gaming, Enx Tech, ASAP Charge, 25H Playtime, Bluetooth V5.2 (Active Black)',\n",
       "  'ZEBRONICS Thunder Bluetooth 5.3 Wireless Over Ear Headphones with 60H Backup, Gaming Mode, Dual Pairing, ENC, AUX, Micro SD, Voice Assistant, Comfortable Earcups, Call Function(Sea Green)',\n",
       "  'boAt Rockerz 425 Bluetooth Wireless On Ear Headphones Signature Sound, ENx Tech, ASAP Charge, 25H Playtime, Bluetooth V5.2, Dual Pairing with Mic(Techno Purple)',\n",
       "  'boAt Rockerz 450 Bluetooth On Ear Headphones with Mic, Upto 15 Hours Playback, 40MM Drivers, Padded Ear Cushions, Integrated Controls and Dual Modes(Hazel Beige)',\n",
       "  'boAt Rockerz 550 Over Ear Bluetooth Headphones with Upto 20 Hours Playback, 50MM Drivers, Soft Padded Ear Cushions and Physical Noise Isolation(Black)',\n",
       "  'Zebronics Zeb-Storm Wired On Ear Headphone with 3.5mm Jack, Built-in Microphone for Calling, 1.5 Meter Cable, Soft Ear Cushion, Adjustable Headband, Foldable Ear Cups and Lightweight Design (Black)',\n",
       "  'ZEBRONICS Zeb-Thunder PRO On-Ear Wireless Headphone Up to 60 Hours Playback, Wired Mode, USB-C Type Charging(Black)',\n",
       "  'JBL C100SI Wired In Ear Headphones with Mic, JBL Pure Bass Sound, One Button Multi-function Remote, Premium Metallic Finish, Angled Buds for Comfort fit (Black)',\n",
       "  'Sony MDR-ZX110A Wired On Ear Headphone without Mic (White)',\n",
       "  'Sony Mdr-Zx310Ap Wired On Ear Headphones with Mic (Blue)',\n",
       "  'boAt Rockerz 550 Bluetooth Wireless Over Ear Headphones with Upto 20 Hours Playback, 50MM Drivers, Soft Padded Ear Cushions and Physical Noise Isolation with Mic (Black Symphony)',\n",
       "  'ZEBRONICS Zeb-Bro in Ear Wired Earphones with Mic, 3.5mm Audio Jack, 10mm Drivers, Phone/Tablet Compatible(Blue)',\n",
       "  'ZEBRONICS THUNDER Bluetooth 5.3 Wireless Headphones with 60H Backup, Gaming Mode, Dual Pairing, ENC, AUX, Micro SD, Voice assistant, Comfortable Earcups, Call Function(Black)',\n",
       "  'ZEBRONICS Thunder Bluetooth 5.3 Over ear Wireless Headphones with 60H Backup, Gaming Mode, Dual Pairing, ENC, AUX, Micro SD, Voice Assistant, Comfortable Earcups, Call Function(Teal Green)'],\n",
       " 'rule_xhv4': ['boAt Rockerz 450 Bluetooth On Ear Headphones with Mic, Upto 15 Hours Playback, 40MM Drivers, Padded Ear Cushions, Integrat...',\n",
       "  'boAt BassHeads 100 in-Ear Wired Headphones with Mic (Black)',\n",
       "  'boAt Rockerz 425 Bluetooth Wireless Over Ear Headphones with Mic Signature Sound, Beast Mode for Gaming, Enx Tech, ASAP Ch...',\n",
       "  'ZEBRONICS Thunder Bluetooth 5.3 Wireless Over Ear Headphones with 60H Backup, Gaming Mode, Dual Pairing, ENC, AUX, Micro S...',\n",
       "  'boAt Rockerz 425 Bluetooth Wireless On Ear Headphones Signature Sound, ENx Tech, ASAP Charge, 25H Playtime, Bluetooth V5....',\n",
       "  'boAt Rockerz 450 Bluetooth On Ear Headphones with Mic, Upto 15 Hours Playback, 40MM Drivers, Padded Ear Cushions, Integrat...',\n",
       "  'boAt Rockerz 550 Over Ear Bluetooth Headphones with Upto 20 Hours Playback, 50MM Drivers, Soft Padded Ear Cushions and Phy...',\n",
       "  'Zebronics Zeb-Storm Wired On Ear Headphone with 3.5mm Jack, Built-in Microphone for Calling, 1.5 Meter Cable, Soft Ear Cus...',\n",
       "  'ZEBRONICS Zeb-Thunder PRO On-Ear Wireless Headphone Up to 60 Hours Playback, Wired Mode, USB-C Type Charging(Black)',\n",
       "  'JBL C100SI Wired In Ear Headphones with Mic, JBL Pure Bass Sound, One Button Multi-function Remote, Premium Metallic Finis...',\n",
       "  'Sony MDR-ZX110A Wired On Ear Headphone without Mic (White)',\n",
       "  'Sony Mdr-Zx310Ap Wired On Ear Headphones with Mic (Blue)',\n",
       "  'boAt Rockerz 550 Bluetooth Wireless Over Ear Headphones with Upto 20 Hours Playback, 50MM Drivers, Soft Padded Ear Cushion...',\n",
       "  'ZEBRONICS Zeb-Bro in Ear Wired Earphones with Mic, 3.5mm Audio Jack, 10mm Drivers, Phone/Tablet Compatible(Blue)',\n",
       "  'ZEBRONICS THUNDER Bluetooth 5.3 Wireless Headphones with 60H Backup, Gaming Mode, Dual Pairing, ENC, AUX, Micro SD, Voice ...',\n",
       "  'ZEBRONICS Thunder Bluetooth 5.3 Over ear Wireless Headphones with 60H Backup, Gaming Mode, Dual Pairing, ENC, AUX, Micro S...'],\n",
       " 'rule_vocp': ['113,354',\n",
       "  '245,691',\n",
       "  '2,269',\n",
       "  '52,317',\n",
       "  '2,269',\n",
       "  '113,354',\n",
       "  '62,742',\n",
       "  '2,435',\n",
       "  '52,317',\n",
       "  '212,079',\n",
       "  '65,387',\n",
       "  '244',\n",
       "  '62,742',\n",
       "  '52,245',\n",
       "  '23,433',\n",
       "  '52,317']}"
      ]
     },
     "execution_count": 8,
     "metadata": {},
     "output_type": "execute_result"
    }
   ],
   "source": [
    "scrp.get_result_similar(amzon_url,grouped=True)"
   ]
  },
  {
   "cell_type": "code",
   "execution_count": 9,
   "id": "b4d619e5-f3ac-4d10-8367-08c610a69d0e",
   "metadata": {},
   "outputs": [],
   "source": [
    "iphone = \"https://www.amazon.in/s?k=iphone&crid=22RDHJUFC04K2&sprefix=iphone+%2Caps%2C435&ref=nb_sb_noss_2\"\n",
    "want_list2=[\"Apple iPhone 16 (256 GB) - Ultramarine\",\"₹89,900\",\" 29,054\"]"
   ]
  },
  {
   "cell_type": "code",
   "execution_count": 10,
   "id": "2d3c6247-fe02-4f5b-9cc6-c5d9ac9d2a89",
   "metadata": {},
   "outputs": [
    {
     "data": {
      "text/plain": [
       "['Apple iPhone 16 (256 GB) - Ultramarine',\n",
       " 'Apple iPhone 13 (128GB) - Starlight',\n",
       " 'Apple iPhone 15 (128 GB) - Black',\n",
       " 'Apple iPhone 15 (128 GB) - Blue',\n",
       " 'Apple iPhone 16 (256 GB) - Black',\n",
       " 'Apple iPhone 14 (128 GB) - Blue',\n",
       " 'Apple iPhone 13 (128GB) - Midnight',\n",
       " 'Apple iPhone 13 (128GB) - Pink',\n",
       " 'Apple iPhone 16 Plus (128 GB) - White',\n",
       " 'Apple iPhone 13 (128GB) - Blue',\n",
       " 'Apple iPhone 15 (128 GB) - Pink',\n",
       " 'Apple iPhone 14 (128 GB) - Starlight',\n",
       " 'Apple iPhone 16 Plus (128 GB) - Teal',\n",
       " 'Apple iPhone 15 Pro Max (256 GB) - Black Titanium',\n",
       " 'Apple iPhone 15 (256 GB) - Green',\n",
       " 'Apple iPhone 15 Plus (128 GB) - Black',\n",
       " 'Apple iPhone 16 Pro (1 TB) - White Titanium',\n",
       " '₹89,900',\n",
       " '₹48,900',\n",
       " '₹69,900',\n",
       " '₹59,900',\n",
       " '₹1,40,999',\n",
       " '₹79,900',\n",
       " '₹1,69,900',\n",
       " '29,054',\n",
       " '2,177',\n",
       " '5,530',\n",
       " '339',\n",
       " '991']"
      ]
     },
     "execution_count": 10,
     "metadata": {},
     "output_type": "execute_result"
    }
   ],
   "source": [
    "scrp.build(iphone,want_list2)"
   ]
  },
  {
   "cell_type": "code",
   "execution_count": 11,
   "id": "1e2a0159-a2e9-424f-a12e-b284e01baf93",
   "metadata": {},
   "outputs": [],
   "source": [
    "#https://www.amazon.in/s?k=iphone&page={3}&crid=22RDHJUFC04K2&qid=1726587401&sprefix=iphone+%2Caps%2C435&ref=sr_pg_{3}"
   ]
  },
  {
   "cell_type": "code",
   "execution_count": null,
   "id": "5f471e91-a6b0-41b9-9816-f417e1a10db9",
   "metadata": {},
   "outputs": [],
   "source": [
    "scrp.set_rule_aliases({})"
   ]
  }
 ],
 "metadata": {
  "kernelspec": {
   "display_name": "Python 3 (ipykernel)",
   "language": "python",
   "name": "python3"
  },
  "language_info": {
   "codemirror_mode": {
    "name": "ipython",
    "version": 3
   },
   "file_extension": ".py",
   "mimetype": "text/x-python",
   "name": "python",
   "nbconvert_exporter": "python",
   "pygments_lexer": "ipython3",
   "version": "3.11.7"
  },
  "widgets": {
   "application/vnd.jupyter.widget-state+json": {
    "state": {},
    "version_major": 2,
    "version_minor": 0
   }
  }
 },
 "nbformat": 4,
 "nbformat_minor": 5
}
