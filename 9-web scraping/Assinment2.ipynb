{
 "cells": [
  {
   "cell_type": "code",
   "execution_count": 2,
   "id": "c7390316-1a50-4b58-b70d-8eb1f2906b64",
   "metadata": {},
   "outputs": [],
   "source": [
    "from bs4 import BeautifulSoup\n",
    "import requests "
   ]
  },
  {
   "cell_type": "code",
   "execution_count": 1,
   "id": "1f782121-28e8-43ef-8e33-b89212ab0899",
   "metadata": {},
   "outputs": [],
   "source": [
    "link=\"https://www.imdb.com/title/tt1345836/reviews/?ref_=tt_urv\""
   ]
  },
  {
   "cell_type": "code",
   "execution_count": 5,
   "id": "3121973e-51da-44dd-938b-eaffaa35024f",
   "metadata": {},
   "outputs": [
    {
     "data": {
      "text/plain": [
       "<Response [200]>"
      ]
     },
     "execution_count": 5,
     "metadata": {},
     "output_type": "execute_result"
    }
   ],
   "source": [
    "page = requests.get(link)\n",
    "page #if 200 then request is grant"
   ]
  },
  {
   "cell_type": "code",
   "execution_count": 1,
   "id": "ba2ace0b-33c2-440c-bbdc-dd59419174dd",
   "metadata": {},
   "outputs": [
    {
     "ename": "NameError",
     "evalue": "name 'BeautifulSoup' is not defined",
     "output_type": "error",
     "traceback": [
      "\u001b[1;31m---------------------------------------------------------------------------\u001b[0m",
      "\u001b[1;31mNameError\u001b[0m                                 Traceback (most recent call last)",
      "Cell \u001b[1;32mIn[1], line 1\u001b[0m\n\u001b[1;32m----> 1\u001b[0m soup \u001b[38;5;241m=\u001b[39mBeautifulSoup(page\u001b[38;5;241m.\u001b[39mcontent,\u001b[38;5;124m'\u001b[39m\u001b[38;5;124mhtml.parser\u001b[39m\u001b[38;5;124m'\u001b[39m)\n",
      "\u001b[1;31mNameError\u001b[0m: name 'BeautifulSoup' is not defined"
     ]
    }
   ],
   "source": [
    "soup =BeautifulSoup(page.content,'html.parser')"
   ]
  },
  {
   "cell_type": "code",
   "execution_count": 10,
   "id": "fc8f5ee9-f745-43d0-9d4a-9e1e0746f572",
   "metadata": {},
   "outputs": [],
   "source": [
    "k=soup.find_all('a',class_='title')"
   ]
  },
  {
   "cell_type": "code",
   "execution_count": 12,
   "id": "c39352fa-8709-452e-8b0c-27cbb65d1395",
   "metadata": {},
   "outputs": [
    {
     "data": {
      "text/plain": [
       "25"
      ]
     },
     "execution_count": 12,
     "metadata": {},
     "output_type": "execute_result"
    }
   ],
   "source": [
    "g=[]\n",
    "for i in range(len(k)): \n",
    "      g.append(k[i].get_text())\n",
    "len(g)"
   ]
  },
  {
   "cell_type": "code",
   "execution_count": 16,
   "id": "9662c2eb-3694-4388-adb5-182f77df906e",
   "metadata": {},
   "outputs": [
    {
     "data": {
      "text/plain": [
       "' A wonderful conclusion to a wonderful trilogy.'"
      ]
     },
     "execution_count": 16,
     "metadata": {},
     "output_type": "execute_result"
    }
   ],
   "source": [
    "g[0].split('\\n')[0]"
   ]
  },
  {
   "cell_type": "code",
   "execution_count": 17,
   "id": "e5f7a688-2f04-49f8-a719-c9ab6a713f2d",
   "metadata": {},
   "outputs": [],
   "source": [
    "p=[]\n",
    "for i in range(len(g)):\n",
    "    p.append(g[i].split('\\n')[0])"
   ]
  },
  {
   "cell_type": "code",
   "execution_count": 36,
   "id": "9ad75d95-91f4-4e69-963c-020d65526f4f",
   "metadata": {},
   "outputs": [
    {
     "data": {
      "text/plain": [
       "[' A wonderful conclusion to a wonderful trilogy.',\n",
       " ' Epic',\n",
       " ' What a way to end the trilogy!',\n",
       " ' As of 2023, still the standout Batman movie.',\n",
       " ' Batman',\n",
       " ' Stunning Conclusion to an Epic Trilogy',\n",
       " ' Best comic movie trilogy ever',\n",
       " ' My personal favourite of the trilogy',\n",
       " ' End of a Trilogy and legend',\n",
       " ' No one wraps up a trilogy like Nolan.',\n",
       " ' Dark Knight Rises - falls short of greatness',\n",
       " ' Head to head with Dark Knight',\n",
       " ' The Rise and Fall of the Dark Knight',\n",
       " ' Lazy, incoherent, and unsatisfying on nearly every level.',\n",
       " ' Nolan has outdone himself... again.',\n",
       " ' Best Film of 2012, so far!',\n",
       " ' It was okay...',\n",
       " ' Astounding',\n",
       " \" The Dark Knight rises quite high, Nolan's destiny has been fulfilled.\",\n",
       " \" Really Good End to Nolan's Great Trilogy\",\n",
       " ' I loved It',\n",
       " ' Great Ending Of The Trilogy.....',\n",
       " ' Simply slacking off',\n",
       " ' Awful plot. People in this movie are sheep without character',\n",
       " ' The Best \"Batman\" Movie Ever!!!']"
      ]
     },
     "execution_count": 36,
     "metadata": {},
     "output_type": "execute_result"
    }
   ],
   "source": [
    "p"
   ]
  },
  {
   "cell_type": "code",
   "execution_count": 22,
   "id": "36e5a67d-0018-40f0-992f-8fc41a1b7f10",
   "metadata": {},
   "outputs": [
    {
     "data": {
      "text/plain": [
       "24"
      ]
     },
     "execution_count": 22,
     "metadata": {},
     "output_type": "execute_result"
    }
   ],
   "source": [
    "k1=soup('span',\"rating-other-user-rating\")\n",
    "len(k1)"
   ]
  },
  {
   "cell_type": "code",
   "execution_count": 39,
   "id": "c9bbe545-40be-4b4d-9b3b-442efeb67e62",
   "metadata": {},
   "outputs": [
    {
     "data": {
      "text/plain": [
       "24"
      ]
     },
     "execution_count": 39,
     "metadata": {},
     "output_type": "execute_result"
    }
   ],
   "source": [
    "o=[]\n",
    "for i in range(len(k1)): \n",
    "    o.append(k1[i].get_text())\n",
    "len(o)"
   ]
  },
  {
   "cell_type": "code",
   "execution_count": 38,
   "id": "4767fd2b-9e4e-4306-8687-4b8655227086",
   "metadata": {},
   "outputs": [
    {
     "data": {
      "text/plain": [
       "'10'"
      ]
     },
     "execution_count": 38,
     "metadata": {},
     "output_type": "execute_result"
    }
   ],
   "source": [
    "(o[7].split('\\n')[6]).split('/')[0]"
   ]
  },
  {
   "cell_type": "code",
   "execution_count": 62,
   "id": "915d65b7-e9ff-4bc6-b6b5-5a6e0f3b7943",
   "metadata": {},
   "outputs": [],
   "source": [
    "rate=[]\n",
    "for i in range(len(o)):  \n",
    "    rate.append((o[i].split('\\n')[6]).split('/')[0])"
   ]
  },
  {
   "cell_type": "code",
   "execution_count": 65,
   "id": "c5015e2a-f3da-4a24-85e6-577b4c6b7f37",
   "metadata": {},
   "outputs": [
    {
     "data": {
      "text/plain": [
       "25"
      ]
     },
     "execution_count": 65,
     "metadata": {},
     "output_type": "execute_result"
    }
   ],
   "source": [
    "len(rate)\n"
   ]
  },
  {
   "cell_type": "code",
   "execution_count": 43,
   "id": "5ed6f564-fb62-4093-8623-21f392f54e13",
   "metadata": {},
   "outputs": [],
   "source": [
    "k3=soup('div',class_=\"text show-more__control\")"
   ]
  },
  {
   "cell_type": "code",
   "execution_count": 45,
   "id": "768a6f54-87b0-4c6f-86bb-23a4590f6181",
   "metadata": {},
   "outputs": [
    {
     "data": {
      "text/plain": [
       "25"
      ]
     },
     "execution_count": 45,
     "metadata": {},
     "output_type": "execute_result"
    }
   ],
   "source": [
    "len(k3)"
   ]
  },
  {
   "cell_type": "code",
   "execution_count": 47,
   "id": "2e12a4c0-4120-4a7a-9b6e-0625e9693614",
   "metadata": {},
   "outputs": [],
   "source": [
    "l=[]\n",
    "for i in range(len(k3)):  \n",
    "    l.append(k3[i].get_text())"
   ]
  },
  {
   "cell_type": "code",
   "execution_count": 51,
   "id": "b8228488-8d75-44ce-909b-ec6dab5dcdea",
   "metadata": {},
   "outputs": [
    {
     "data": {
      "text/plain": [
       "\"I think as a film stand point, the dark knight is a better movie that is better acted and tense the whole way through. The dark knight rises to me is a more fun and action filled movie that you can sit back a bit more. The acting is still amazing and combined with the atmosphere/visuals of the movie creates a the sense of realism that the movie has. That realism is where the intensity stems from throughout the movie, the audience believing that something like this could actually happen makes it that much scarier. Bane is also an excellent villain, in the dark knight the joker challenges Batman mentally but Bane physically challenges him which is a completely new challenge for Batman. The plot is incredible, it it starts fast and instantly brings you into the action. It then takes a step back to develop the characters further and build up the challenge Batman has to face. Once one of the many challenges was overcome by Batman in launches the viewer straight back into action for one epic final battle that lasts almost an hour......and it is GLORIOUS! Not one second was I bored, it is truly incredible how each movie in the trilogy is this good, it shouldn't be possible. I've not even mentioned the incredible soundtrack to compliment the astounding yet grounded action. I can't compliment this movie enough. If you haven't someone seen this trilogy yet....watch it, you won't be disappointed.\""
      ]
     },
     "execution_count": 51,
     "metadata": {},
     "output_type": "execute_result"
    }
   ],
   "source": [
    "l[7]"
   ]
  },
  {
   "cell_type": "code",
   "execution_count": 66,
   "id": "862a319e-3f7c-42c2-8a9f-bfdc9b7d3cb9",
   "metadata": {},
   "outputs": [
    {
     "data": {
      "text/plain": [
       "[' A wonderful conclusion to a wonderful trilogy.',\n",
       " ' Epic',\n",
       " ' What a way to end the trilogy!',\n",
       " ' As of 2023, still the standout Batman movie.',\n",
       " ' Batman',\n",
       " ' Stunning Conclusion to an Epic Trilogy',\n",
       " ' Best comic movie trilogy ever',\n",
       " ' My personal favourite of the trilogy',\n",
       " ' End of a Trilogy and legend',\n",
       " ' No one wraps up a trilogy like Nolan.',\n",
       " ' Dark Knight Rises - falls short of greatness',\n",
       " ' Head to head with Dark Knight',\n",
       " ' The Rise and Fall of the Dark Knight',\n",
       " ' Lazy, incoherent, and unsatisfying on nearly every level.',\n",
       " ' Nolan has outdone himself... again.',\n",
       " ' Best Film of 2012, so far!',\n",
       " ' It was okay...',\n",
       " ' Astounding',\n",
       " \" The Dark Knight rises quite high, Nolan's destiny has been fulfilled.\",\n",
       " \" Really Good End to Nolan's Great Trilogy\",\n",
       " ' I loved It',\n",
       " ' Great Ending Of The Trilogy.....',\n",
       " ' Simply slacking off',\n",
       " ' Awful plot. People in this movie are sheep without character',\n",
       " ' The Best \"Batman\" Movie Ever!!!']"
      ]
     },
     "execution_count": 66,
     "metadata": {},
     "output_type": "execute_result"
    }
   ],
   "source": [
    "p"
   ]
  },
  {
   "cell_type": "code",
   "execution_count": 69,
   "id": "b641e65a-e187-4a5e-ad6b-de934bc8f5b9",
   "metadata": {},
   "outputs": [],
   "source": [
    "#rate ,p ,k3"
   ]
  },
  {
   "cell_type": "code",
   "execution_count": 84,
   "id": "2b28b086-9aea-497c-ab64-35eb0f259c33",
   "metadata": {},
   "outputs": [],
   "source": [
    "import pandas as pd  \n",
    "df = pd.DataFrame(\n",
    "    {\n",
    "        'index':range(1,26), \n",
    "        'title':p, \n",
    "        'rate':rate,\n",
    "        'text':l\n",
    "    }\n",
    ")"
   ]
  },
  {
   "cell_type": "code",
   "execution_count": null,
   "id": "699727c6-9050-45d4-944d-1a8afddb195c",
   "metadata": {},
   "outputs": [],
   "source": [
    "df.sample(3)"
   ]
  },
  {
   "cell_type": "code",
   "execution_count": 79,
   "id": "c0980ec2-d737-4523-bfb1-c3ef9da3b359",
   "metadata": {},
   "outputs": [
    {
     "data": {
      "text/plain": [
       "25"
      ]
     },
     "execution_count": 79,
     "metadata": {},
     "output_type": "execute_result"
    }
   ],
   "source": [
    "len(p)"
   ]
  },
  {
   "cell_type": "code",
   "execution_count": 81,
   "id": "c4db3430-155a-4500-b3ae-144eddf7f30f",
   "metadata": {},
   "outputs": [
    {
     "data": {
      "text/plain": [
       "24"
      ]
     },
     "execution_count": 81,
     "metadata": {},
     "output_type": "execute_result"
    }
   ],
   "source": [
    "len(k1)"
   ]
  },
  {
   "cell_type": "code",
   "execution_count": 82,
   "id": "3bd7a04a-41b0-4bd7-9099-2cfa702e7f4b",
   "metadata": {},
   "outputs": [
    {
     "data": {
      "text/plain": [
       "25"
      ]
     },
     "execution_count": 82,
     "metadata": {},
     "output_type": "execute_result"
    }
   ],
   "source": [
    "len(l)"
   ]
  },
  {
   "cell_type": "code",
   "execution_count": 87,
   "id": "4572eeea-d879-44c6-82ed-3706d0dc4634",
   "metadata": {},
   "outputs": [
    {
     "data": {
      "text/html": [
       "<div>\n",
       "<style scoped>\n",
       "    .dataframe tbody tr th:only-of-type {\n",
       "        vertical-align: middle;\n",
       "    }\n",
       "\n",
       "    .dataframe tbody tr th {\n",
       "        vertical-align: top;\n",
       "    }\n",
       "\n",
       "    .dataframe thead th {\n",
       "        text-align: right;\n",
       "    }\n",
       "</style>\n",
       "<table border=\"1\" class=\"dataframe\">\n",
       "  <thead>\n",
       "    <tr style=\"text-align: right;\">\n",
       "      <th></th>\n",
       "      <th>index</th>\n",
       "      <th>title</th>\n",
       "      <th>rate</th>\n",
       "      <th>text</th>\n",
       "    </tr>\n",
       "  </thead>\n",
       "  <tbody>\n",
       "    <tr>\n",
       "      <th>24</th>\n",
       "      <td>25</td>\n",
       "      <td>The Best \"Batman\" Movie Ever!!!</td>\n",
       "      <td>9</td>\n",
       "      <td>I cannot imagine a \"Batman\" movie after \"The D...</td>\n",
       "    </tr>\n",
       "    <tr>\n",
       "      <th>11</th>\n",
       "      <td>12</td>\n",
       "      <td>Head to head with Dark Knight</td>\n",
       "      <td>6</td>\n",
       "      <td>After watching Dark Knight Rises I concluded t...</td>\n",
       "    </tr>\n",
       "    <tr>\n",
       "      <th>15</th>\n",
       "      <td>16</td>\n",
       "      <td>Best Film of 2012, so far!</td>\n",
       "      <td>10</td>\n",
       "      <td>I had the honor of watching TDKR during a scre...</td>\n",
       "    </tr>\n",
       "  </tbody>\n",
       "</table>\n",
       "</div>"
      ],
      "text/plain": [
       "    index                             title rate                                               text\n",
       "24     25   The Best \"Batman\" Movie Ever!!!    9  I cannot imagine a \"Batman\" movie after \"The D...\n",
       "11     12     Head to head with Dark Knight    6  After watching Dark Knight Rises I concluded t...\n",
       "15     16        Best Film of 2012, so far!   10  I had the honor of watching TDKR during a scre..."
      ]
     },
     "execution_count": 87,
     "metadata": {},
     "output_type": "execute_result"
    }
   ],
   "source": [
    "df.sample(3)"
   ]
  },
  {
   "cell_type": "code",
   "execution_count": 90,
   "id": "ffa0323a-4ff7-461f-b5f0-d2515c3fbf39",
   "metadata": {},
   "outputs": [
    {
     "data": {
      "text/plain": [
       "0     0.303623\n",
       "1     0.452632\n",
       "2     0.282788\n",
       "3     0.393401\n",
       "4     0.283333\n",
       "5     0.221984\n",
       "6     0.162338\n",
       "7     0.188443\n",
       "8     0.231988\n",
       "9     0.129814\n",
       "10    0.218533\n",
       "11    0.292671\n",
       "12    0.065232\n",
       "13   -0.017974\n",
       "14    0.061944\n",
       "15    0.254924\n",
       "16    0.176078\n",
       "17    0.100000\n",
       "18    0.175302\n",
       "19    0.277562\n",
       "20    0.224708\n",
       "21    0.202151\n",
       "22    0.233508\n",
       "23    0.166310\n",
       "24    0.081080\n",
       "Name: polarity, dtype: float64"
      ]
     },
     "execution_count": 90,
     "metadata": {},
     "output_type": "execute_result"
    }
   ],
   "source": [
    "from textblob import TextBlob\n",
    "df['polarity']=df['text'].apply(lambda x: TextBlob(str(x)).sentiment.polarity)\n",
    "df['polarity']"
   ]
  },
  {
   "cell_type": "code",
   "execution_count": 93,
   "id": "ab7932b5-6257-4f34-9027-f5d220454556",
   "metadata": {},
   "outputs": [
    {
     "data": {
      "text/plain": [
       "' A wonderful conclusion to a wonderful trilogy.'"
      ]
     },
     "execution_count": 93,
     "metadata": {},
     "output_type": "execute_result"
    }
   ],
   "source": [
    "df['title'][0]"
   ]
  },
  {
   "cell_type": "code",
   "execution_count": 94,
   "id": "90221a59-2610-43a7-a2ee-95f4d9ecd670",
   "metadata": {},
   "outputs": [
    {
     "data": {
      "text/plain": [
       "1.0"
      ]
     },
     "execution_count": 94,
     "metadata": {},
     "output_type": "execute_result"
    }
   ],
   "source": [
    "sent = df['title'][0]\n",
    "pol =TextBlob(sent).sentiment.polarity\n",
    "pol"
   ]
  },
  {
   "cell_type": "code",
   "execution_count": 96,
   "id": "3c2e7d16-870a-48c9-a11b-a1e7377fa355",
   "metadata": {},
   "outputs": [
    {
     "data": {
      "text/plain": [
       "0.5625"
      ]
     },
     "execution_count": 96,
     "metadata": {},
     "output_type": "execute_result"
    }
   ],
   "source": [
    "r1=\"Best Film of 2012, so far!\"\n",
    "pol =TextBlob(r1).sentiment.polarity\n",
    "pol"
   ]
  },
  {
   "cell_type": "code",
   "execution_count": 99,
   "id": "fc11fd49-b698-482d-bd9e-91b16d2d5c59",
   "metadata": {},
   "outputs": [
    {
     "name": "stdout",
     "output_type": "stream",
     "text": [
      "1.0\n",
      "0.1\n",
      "0.0\n",
      "0.0\n",
      "0.0\n",
      "0.3\n",
      "0.625\n",
      "0.0\n",
      "0.0\n",
      "0.0\n",
      "-0.075\n",
      "-0.15\n",
      "-0.15\n",
      "-0.1166666666666667\n",
      "0.0\n",
      "0.5625\n",
      "0.5\n",
      "0.6\n",
      "0.0050000000000000044\n",
      "0.75\n",
      "0.7\n",
      "0.8\n",
      "0.0\n",
      "-1.0\n"
     ]
    }
   ],
   "source": [
    "df['title'].apply(lambda x: TextBlob(str(x)).sentiment.polarity)\n",
    "for i in range(24):\n",
    "    sent = df['title'][i]\n",
    "    pol =TextBlob(sent).sentiment.polarity\n",
    "    print(pol)"
   ]
  },
  {
   "cell_type": "code",
   "execution_count": null,
   "id": "c365c501-6073-4e69-a8f4-6f492d4dd873",
   "metadata": {},
   "outputs": [],
   "source": []
  }
 ],
 "metadata": {
  "kernelspec": {
   "display_name": "Python 3 (ipykernel)",
   "language": "python",
   "name": "python3"
  },
  "language_info": {
   "codemirror_mode": {
    "name": "ipython",
    "version": 3
   },
   "file_extension": ".py",
   "mimetype": "text/x-python",
   "name": "python",
   "nbconvert_exporter": "python",
   "pygments_lexer": "ipython3",
   "version": "3.11.7"
  },
  "widgets": {
   "application/vnd.jupyter.widget-state+json": {
    "state": {},
    "version_major": 2,
    "version_minor": 0
   }
  }
 },
 "nbformat": 4,
 "nbformat_minor": 5
}
