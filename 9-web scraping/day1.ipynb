{
 "cells": [
  {
   "cell_type": "code",
   "execution_count": 16,
   "id": "ec65e0e3-d648-4320-b595-50d6c090604a",
   "metadata": {},
   "outputs": [],
   "source": [
    "import pandas as pd \n",
    "from bs4 import BeautifulSoup"
   ]
  },
  {
   "cell_type": "code",
   "execution_count": 17,
   "id": "22e15c43-523f-4751-be27-b4743540cdd7",
   "metadata": {},
   "outputs": [],
   "source": [
    "import requests"
   ]
  },
  {
   "cell_type": "code",
   "execution_count": 18,
   "id": "92c021d6-3236-4cd7-a115-e2e17f38735d",
   "metadata": {},
   "outputs": [],
   "source": [
    "url= 'https://timesofindia.indiatimes.com/city/delhi'"
   ]
  },
  {
   "cell_type": "code",
   "execution_count": 19,
   "id": "a04f874f-6777-4ac2-b9a6-5368756e1b28",
   "metadata": {},
   "outputs": [],
   "source": [
    "t=requests.get(url)"
   ]
  },
  {
   "cell_type": "code",
   "execution_count": 22,
   "id": "952943ca-1aec-4eb3-b37f-ba4b8446cd61",
   "metadata": {},
   "outputs": [],
   "source": [
    "import requests  # Import the requests module\n",
    "\n",
    "def fetchAndSaveToFile(url, path):\n",
    "    r = requests.get(url)\n",
    "    r.raise_for_status()  # This will raise an HTTPError if the request returned an unsuccessful status code\n",
    "    with open(path, \"w\",encoding=\"utf-8\") as f:\n",
    "        f.write(r.text)\n"
   ]
  },
  {
   "cell_type": "code",
   "execution_count": 23,
   "id": "e9888430-1e45-4cc0-b736-af2637151957",
   "metadata": {},
   "outputs": [],
   "source": [
    "\n",
    " # Replace with the URL you want to fetch\n",
    "path = \"output.txt\"          # Replace with the file path where you want to save the content\n",
    "\n",
    "fetchAndSaveToFile(url, path)\n"
   ]
  },
  {
   "cell_type": "code",
   "execution_count": null,
   "id": "944150c8-1cba-4d6f-baa4-fa74223c7505",
   "metadata": {},
   "outputs": [],
   "source": []
  },
  {
   "cell_type": "code",
   "execution_count": null,
   "id": "c05bfc55-9a69-45fb-a9ab-1dd357aaca77",
   "metadata": {},
   "outputs": [],
   "source": []
  }
 ],
 "metadata": {
  "kernelspec": {
   "display_name": "Python 3 (ipykernel)",
   "language": "python",
   "name": "python3"
  },
  "language_info": {
   "codemirror_mode": {
    "name": "ipython",
    "version": 3
   },
   "file_extension": ".py",
   "mimetype": "text/x-python",
   "name": "python",
   "nbconvert_exporter": "python",
   "pygments_lexer": "ipython3",
   "version": "3.11.7"
  }
 },
 "nbformat": 4,
 "nbformat_minor": 5
}
