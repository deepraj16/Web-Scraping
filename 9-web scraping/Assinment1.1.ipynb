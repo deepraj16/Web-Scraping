{
 "cells": [
  {
   "cell_type": "code",
   "execution_count": 5,
   "id": "3d8fe33c-23b0-48b2-b54b-4a6784e9d79f",
   "metadata": {},
   "outputs": [],
   "source": [
    "import requests as requests\n",
    "from bs4 import BeautifulSoup as bs\n",
    "base_url=\"https://www.amazon.com/All-New-release-Smart-speaker-Charcoal/dp/B09B8V1LZ3?th={}\""
   ]
  },
  {
   "cell_type": "code",
   "execution_count": 55,
   "id": "d3e07cb9-c50e-4e74-af4c-35c2b4e3b22d",
   "metadata": {},
   "outputs": [
    {
     "name": "stdout",
     "output_type": "stream",
     "text": [
      "https://www.amazon.com/All-New-release-Smart-speaker-Charcoal/dp/B09B8V1LZ3?th=1\n",
      "<Response [200]>\n",
      "https://www.amazon.com/All-New-release-Smart-speaker-Charcoal/dp/B09B8V1LZ3?th=2\n",
      "<Response [200]>\n",
      "https://www.amazon.com/All-New-release-Smart-speaker-Charcoal/dp/B09B8V1LZ3?th=3\n",
      "<Response [200]>\n",
      "https://www.amazon.com/All-New-release-Smart-speaker-Charcoal/dp/B09B8V1LZ3?th=4\n",
      "<Response [200]>\n",
      "https://www.amazon.com/All-New-release-Smart-speaker-Charcoal/dp/B09B8V1LZ3?th=5\n",
      "<Response [200]>\n",
      "https://www.amazon.com/All-New-release-Smart-speaker-Charcoal/dp/B09B8V1LZ3?th=6\n",
      "<Response [200]>\n"
     ]
    }
   ],
   "source": [
    "review_text=[]\n",
    "review_rate=[]\n",
    "for i in range(1,7):\n",
    "  base1=base_url.replace(\"{}\",str(i))\n",
    "  print(base1)\n",
    "  page=requests.get(base1)\n",
    "  print(page)\n",
    "  soup=bs(page.content,\"html.parser\")\n",
    "  soup.prettify()\n",
    "  reviews=soup.find_all('div', class_=\"a-expander-content reviewText review-text-content a-expander-partial-collapse-content\")\n",
    "  for j in range(len(reviews)):\n",
    "    review_text.append(reviews[j].get_text())"
   ]
  },
  {
   "cell_type": "code",
   "execution_count": 56,
   "id": "72ce09a0-5a01-47a3-a4dc-865e435ef6b3",
   "metadata": {},
   "outputs": [
    {
     "data": {
      "text/plain": [
       "30"
      ]
     },
     "execution_count": 56,
     "metadata": {},
     "output_type": "execute_result"
    }
   ],
   "source": [
    "len(review_text)"
   ]
  },
  {
   "cell_type": "code",
   "execution_count": null,
   "id": "c9a940f4-9b51-4f88-9b7e-a68901328c76",
   "metadata": {},
   "outputs": [],
   "source": []
  },
  {
   "cell_type": "code",
   "execution_count": null,
   "id": "f893ac38-bc66-45f0-8170-d4e4d1f20780",
   "metadata": {},
   "outputs": [],
   "source": []
  },
  {
   "cell_type": "code",
   "execution_count": 54,
   "id": "b4f89c10-d319-47ac-862b-e18dd3feb9b4",
   "metadata": {},
   "outputs": [
    {
     "name": "stdout",
     "output_type": "stream",
     "text": [
      "38\n"
     ]
    },
    {
     "data": {
      "text/plain": [
       "['4.6 out of 5 stars',\n",
       " 'Previous page',\n",
       " '4.3 out of 5 stars',\n",
       " '4.5 out of 5 stars',\n",
       " '4.7 out of 5 stars',\n",
       " '4.4 out of 5 stars',\n",
       " '4.6 out of 5 stars',\n",
       " '4.6 out of 5 stars',\n",
       " '4.5 out of 5 stars',\n",
       " '4.5 out of 5 stars',\n",
       " '4.6 out of 5 stars',\n",
       " '4.4 out of 5 stars',\n",
       " 'Next page',\n",
       " 'Previous page',\n",
       " '4.7 out of 5 stars',\n",
       " '4.6 out of 5 stars',\n",
       " '4.6 out of 5 stars',\n",
       " '4.7 out of 5 stars',\n",
       " '4.5 out of 5 stars',\n",
       " '4.7 out of 5 stars',\n",
       " 'Next page',\n",
       " '4.7 out of 5 stars',\n",
       " '4.6 out of 5 stars',\n",
       " '4.6 out of 5 stars',\n",
       " '4.7 out of 5 stars',\n",
       " '4.5 out of 5 stars',\n",
       " 'Previous page',\n",
       " 'Next page',\n",
       " '4.6 out of 5 stars',\n",
       " '5.0 out of 5 stars',\n",
       " 'Previous page',\n",
       " 'Next page',\n",
       " '5 out of 5 stars',\n",
       " '5.0 out of 5 stars',\n",
       " '5.0 out of 5 stars',\n",
       " '5.0 out of 5 stars',\n",
       " '4.0 out of 5 stars',\n",
       " '4.0 out of 5 stars']"
      ]
     },
     "execution_count": 54,
     "metadata": {},
     "output_type": "execute_result"
    }
   ],
   "source": [
    "k= soup.find_all('span',class_=\"a-icon-alt\")\n",
    "k\n",
    "w1=[]\n",
    "for i in range(0,len(k)):\n",
    "    w1.append(k[i].get_text())\n",
    "print(len(w1))\n",
    "w1"
   ]
  },
  {
   "cell_type": "code",
   "execution_count": 57,
   "id": "3ff4b055-8e42-4e55-8100-d42abb62300b",
   "metadata": {},
   "outputs": [
    {
     "name": "stdout",
     "output_type": "stream",
     "text": [
      "30\n",
      "30\n"
     ]
    }
   ],
   "source": [
    "q=[]\n",
    "for i in range(len(w1)):\n",
    "    if(w1[i]=='Previous page' or w1[i]=='Next page'):\n",
    "        f=1\n",
    "    else:\n",
    "        q.append(w1[i])\n",
    "print(len(q))\n",
    "\n",
    "rate=[]\n",
    "for i in range(len(q)):\n",
    "    p=q[i].split(' ')\n",
    "    rate.append(p[0])\n",
    "print(len(rate))"
   ]
  },
  {
   "cell_type": "code",
   "execution_count": 58,
   "id": "647e8d5d-dfd5-4dc2-8229-7d0401645b9e",
   "metadata": {},
   "outputs": [],
   "source": [
    "import numpy as np\n",
    "nl=np.array(rate,dtype=float)"
   ]
  },
  {
   "cell_type": "code",
   "execution_count": 59,
   "id": "7dc90d5e-8031-4146-a2d7-1a0934b40521",
   "metadata": {},
   "outputs": [
    {
     "name": "stdout",
     "output_type": "stream",
     "text": [
      "30\n"
     ]
    }
   ],
   "source": [
    "print(len(nl))"
   ]
  },
  {
   "cell_type": "code",
   "execution_count": 60,
   "id": "ebd0e8e5-bac7-4a8b-9a8f-e66704bb5824",
   "metadata": {},
   "outputs": [
    {
     "name": "stdout",
     "output_type": "stream",
     "text": [
      "30\n"
     ]
    }
   ],
   "source": [
    "print(len(review_text))"
   ]
  },
  {
   "cell_type": "code",
   "execution_count": 61,
   "id": "f0e82f64-d540-421e-928b-0df0ef494058",
   "metadata": {},
   "outputs": [
    {
     "name": "stdout",
     "output_type": "stream",
     "text": [
      "5\n"
     ]
    },
    {
     "data": {
      "text/plain": [
       "['5.0 out of 5 stars\\nLove it\\n',\n",
       " '5.0 out of 5 stars\\nLooking Good new Echo!\\n',\n",
       " '5.0 out of 5 stars\\nImpressive Sound in a Compact Design\\n',\n",
       " '4.0 out of 5 stars\\nTotal 5-star, except...\\n',\n",
       " '4.0 out of 5 stars\\nAlmost perfect\\n']"
      ]
     },
     "execution_count": 61,
     "metadata": {},
     "output_type": "execute_result"
    }
   ],
   "source": [
    "word=soup.find_all('a',class_='a-size-base a-link-normal review-title a-color-base review-title-content a-text-bold')\n",
    "word12=[]\n",
    "for i in range(0,len(word)):\n",
    "    word12.append(word[i].get_text())\n",
    "print(len(word12))\n",
    "word12"
   ]
  },
  {
   "cell_type": "code",
   "execution_count": 62,
   "id": "762f693d-22c4-40f5-b2eb-5ce94fcada74",
   "metadata": {},
   "outputs": [
    {
     "name": "stdout",
     "output_type": "stream",
     "text": [
      "https://www.amazon.com/All-New-release-Smart-speaker-Charcoal/dp/B09B8V1LZ3?th=1\n",
      "<Response [200]>\n",
      "https://www.amazon.com/All-New-release-Smart-speaker-Charcoal/dp/B09B8V1LZ3?th=2\n",
      "<Response [200]>\n",
      "https://www.amazon.com/All-New-release-Smart-speaker-Charcoal/dp/B09B8V1LZ3?th=3\n",
      "<Response [200]>\n",
      "https://www.amazon.com/All-New-release-Smart-speaker-Charcoal/dp/B09B8V1LZ3?th=4\n",
      "<Response [200]>\n",
      "https://www.amazon.com/All-New-release-Smart-speaker-Charcoal/dp/B09B8V1LZ3?th=5\n",
      "<Response [200]>\n",
      "https://www.amazon.com/All-New-release-Smart-speaker-Charcoal/dp/B09B8V1LZ3?th=6\n",
      "<Response [200]>\n"
     ]
    }
   ],
   "source": [
    "review_title=[]\n",
    "for i in range(1,7):\n",
    "  base1=base_url.replace(\"{}\",str(i))\n",
    "  print(base1)\n",
    "  page=requests.get(base1)\n",
    "  print(page)\n",
    "  soup=bs(page.content,\"html.parser\")\n",
    "  soup.prettify()\n",
    "  word=soup.find_all('a',class_='a-size-base a-link-normal review-title a-color-base review-title-content a-text-bold')\n",
    "  for j in range(len(reviews)):\n",
    "    review_title.append(word[j].get_text())"
   ]
  },
  {
   "cell_type": "code",
   "execution_count": 68,
   "id": "bd8475f3-87c2-49c0-aff8-f0810a7d2e86",
   "metadata": {},
   "outputs": [
    {
     "data": {
      "text/plain": [
       "30"
      ]
     },
     "execution_count": 68,
     "metadata": {},
     "output_type": "execute_result"
    }
   ],
   "source": [
    "len(nl)"
   ]
  },
  {
   "cell_type": "code",
   "execution_count": 67,
   "id": "113b7c46-8966-4b84-960c-b4f1be93f682",
   "metadata": {},
   "outputs": [
    {
     "data": {
      "text/plain": [
       "30"
      ]
     },
     "execution_count": 67,
     "metadata": {},
     "output_type": "execute_result"
    }
   ],
   "source": [
    "len(review_text)"
   ]
  },
  {
   "cell_type": "code",
   "execution_count": 69,
   "id": "8d04abe0-68ee-4317-a0fd-96244c76513c",
   "metadata": {},
   "outputs": [
    {
     "data": {
      "text/plain": [
       "array([4.6, 4.3, 4.5, 4.7, 4.4, 4.6, 4.6, 4.5, 4.5, 4.6, 4.4, 4.7, 4.6,\n",
       "       4.6, 4.7, 4.5, 4.7, 4.7, 4.6, 4.6, 4.7, 4.5, 4.6, 5. , 5. , 5. ,\n",
       "       5. , 5. , 4. , 4. ])"
      ]
     },
     "execution_count": 69,
     "metadata": {},
     "output_type": "execute_result"
    }
   ],
   "source": [
    "nl"
   ]
  },
  {
   "cell_type": "code",
   "execution_count": 71,
   "id": "b089bf7a-63df-43d9-a801-0f3025cac55d",
   "metadata": {},
   "outputs": [],
   "source": [
    "import pandas as pd  \n",
    "df= pd.DataFrame({\n",
    "    \"index\":range(1,31),\n",
    "    \"rating\":nl, \n",
    "    \"text\"  :review_text\n",
    "        \n",
    "})"
   ]
  },
  {
   "cell_type": "code",
   "execution_count": 72,
   "id": "bbf680f5-6247-4981-b979-a2ec36795a3e",
   "metadata": {},
   "outputs": [
    {
     "data": {
      "text/html": [
       "<div>\n",
       "<style scoped>\n",
       "    .dataframe tbody tr th:only-of-type {\n",
       "        vertical-align: middle;\n",
       "    }\n",
       "\n",
       "    .dataframe tbody tr th {\n",
       "        vertical-align: top;\n",
       "    }\n",
       "\n",
       "    .dataframe thead th {\n",
       "        text-align: right;\n",
       "    }\n",
       "</style>\n",
       "<table border=\"1\" class=\"dataframe\">\n",
       "  <thead>\n",
       "    <tr style=\"text-align: right;\">\n",
       "      <th></th>\n",
       "      <th>index</th>\n",
       "      <th>rating</th>\n",
       "      <th>text</th>\n",
       "    </tr>\n",
       "  </thead>\n",
       "  <tbody>\n",
       "    <tr>\n",
       "      <th>11</th>\n",
       "      <td>12</td>\n",
       "      <td>4.7</td>\n",
       "      <td>\\nI recently purchased the latest release of t...</td>\n",
       "    </tr>\n",
       "    <tr>\n",
       "      <th>17</th>\n",
       "      <td>18</td>\n",
       "      <td>4.7</td>\n",
       "      <td>\\nSmart speaker that packs a punch despite its...</td>\n",
       "    </tr>\n",
       "    <tr>\n",
       "      <th>25</th>\n",
       "      <td>26</td>\n",
       "      <td>5.0</td>\n",
       "      <td>\\nI recently purchased the Echo Dot, and I cou...</td>\n",
       "    </tr>\n",
       "  </tbody>\n",
       "</table>\n",
       "</div>"
      ],
      "text/plain": [
       "    index  rating                                               text\n",
       "11     12     4.7  \\nI recently purchased the latest release of t...\n",
       "17     18     4.7  \\nSmart speaker that packs a punch despite its...\n",
       "25     26     5.0  \\nI recently purchased the Echo Dot, and I cou..."
      ]
     },
     "execution_count": 72,
     "metadata": {},
     "output_type": "execute_result"
    }
   ],
   "source": [
    "df.sample(3)"
   ]
  },
  {
   "cell_type": "code",
   "execution_count": 74,
   "id": "5ea28db9-13d2-4a23-b795-2082c2e69dc5",
   "metadata": {},
   "outputs": [
    {
     "data": {
      "text/plain": [
       "1.0"
      ]
     },
     "execution_count": 74,
     "metadata": {},
     "output_type": "execute_result"
    }
   ],
   "source": [
    "from textblob import TextBlob\n",
    "sent = \"this is very Excellent gardent\"\n",
    "pol =TextBlob(sent).sentiment.polarity\n",
    "pol"
   ]
  },
  {
   "cell_type": "code",
   "execution_count": 80,
   "id": "2ccede74-0fc1-44f2-a5e0-ec3f7c48a796",
   "metadata": {},
   "outputs": [
    {
     "data": {
      "text/plain": [
       "0     0.330476\n",
       "1     0.331504\n",
       "2     0.289194\n",
       "3     0.408177\n",
       "4     0.196429\n",
       "5     0.330476\n",
       "6     0.331504\n",
       "7     0.289194\n",
       "8     0.408177\n",
       "9     0.196429\n",
       "10    0.330476\n",
       "11    0.331504\n",
       "12    0.289194\n",
       "13    0.408177\n",
       "14    0.196429\n",
       "15    0.330476\n",
       "16    0.331504\n",
       "17    0.289194\n",
       "18    0.408177\n",
       "19    0.196429\n",
       "20    0.330476\n",
       "21    0.331504\n",
       "22    0.289194\n",
       "23    0.408177\n",
       "24    0.196429\n",
       "25    0.330476\n",
       "26    0.331504\n",
       "27    0.289194\n",
       "28    0.408177\n",
       "29    0.196429\n",
       "Name: polarity, dtype: float64"
      ]
     },
     "execution_count": 80,
     "metadata": {},
     "output_type": "execute_result"
    }
   ],
   "source": [
    "df['polarity']=df['text'].apply(lambda x: TextBlob(str(x)).sentiment.polarity)\n",
    "df['polarity']"
   ]
  },
  {
   "cell_type": "code",
   "execution_count": 78,
   "id": "ec6b5784-4b5d-4d2e-acfe-1a6ff434e688",
   "metadata": {},
   "outputs": [
    {
     "data": {
      "text/plain": [
       "<Axes: xlabel='rating', ylabel='polarity'>"
      ]
     },
     "execution_count": 78,
     "metadata": {},
     "output_type": "execute_result"
    },
    {
     "data": {
      "image/png": "[encoded data removed]",
      "text/plain": [
       "<Figure size 640x480 with 1 Axes>"
      ]
     },
     "metadata": {},
     "output_type": "display_data"
    }
   ],
   "source": [
    "import seaborn as sns\n",
    "sns.scatterplot(df,x='rating',y='polarity')"
   ]
  },
  {
   "cell_type": "code",
   "execution_count": null,
   "id": "d0268cd5-0e77-4147-85c1-cb2c2d24aeb9",
   "metadata": {},
   "outputs": [],
   "source": []
  }
 ],
 "metadata": {
  "kernelspec": {
   "display_name": "Python 3 (ipykernel)",
   "language": "python",
   "name": "python3"
  },
  "language_info": {
   "codemirror_mode": {
    "name": "ipython",
    "version": 3
   },
   "file_extension": ".py",
   "mimetype": "text/x-python",
   "name": "python",
   "nbconvert_exporter": "python",
   "pygments_lexer": "ipython3",
   "version": "3.11.7"
  },
  "widgets": {
   "application/vnd.jupyter.widget-state+json": {
    "state": {},
    "version_major": 2,
    "version_minor": 0
   }
  }
 },
 "nbformat": 4,
 "nbformat_minor": 5
}
